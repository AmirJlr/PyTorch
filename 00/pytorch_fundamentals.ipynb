{
 "cells": [
  {
   "cell_type": "code",
   "execution_count": 1,
   "id": "5759f0c2",
   "metadata": {},
   "outputs": [],
   "source": [
    "import torch"
   ]
  },
  {
   "cell_type": "markdown",
   "id": "20f9a388",
   "metadata": {},
   "source": [
    "- ### Introduction to Tensors :"
   ]
  },
  {
   "cell_type": "code",
   "execution_count": 2,
   "id": "483eddfe",
   "metadata": {},
   "outputs": [
    {
     "data": {
      "text/plain": [
       "tensor(3)"
      ]
     },
     "execution_count": 2,
     "metadata": {},
     "output_type": "execute_result"
    }
   ],
   "source": [
    "# creating tensor:\n",
    "\n",
    "scaler = torch.tensor(3)\n",
    "scaler"
   ]
  },
  {
   "cell_type": "code",
   "execution_count": 3,
   "id": "85e7b2b2",
   "metadata": {},
   "outputs": [
    {
     "data": {
      "text/plain": [
       "0"
      ]
     },
     "execution_count": 3,
     "metadata": {},
     "output_type": "execute_result"
    }
   ],
   "source": [
    "scaler.ndim"
   ]
  },
  {
   "cell_type": "code",
   "execution_count": 4,
   "id": "ecf62da3",
   "metadata": {},
   "outputs": [
    {
     "data": {
      "text/plain": [
       "3"
      ]
     },
     "execution_count": 4,
     "metadata": {},
     "output_type": "execute_result"
    }
   ],
   "source": [
    "# back to python int\n",
    "scaler.item()"
   ]
  },
  {
   "cell_type": "code",
   "execution_count": 5,
   "id": "d629cc44",
   "metadata": {},
   "outputs": [
    {
     "data": {
      "text/plain": [
       "tensor([4, 9])"
      ]
     },
     "execution_count": 5,
     "metadata": {},
     "output_type": "execute_result"
    }
   ],
   "source": [
    "vector = torch.tensor([4, 9])\n",
    "vector"
   ]
  },
  {
   "cell_type": "code",
   "execution_count": 6,
   "id": "a9ebd5e6",
   "metadata": {},
   "outputs": [
    {
     "data": {
      "text/plain": [
       "1"
      ]
     },
     "execution_count": 6,
     "metadata": {},
     "output_type": "execute_result"
    }
   ],
   "source": [
    "vector.ndim"
   ]
  },
  {
   "cell_type": "code",
   "execution_count": 7,
   "id": "63571a35",
   "metadata": {},
   "outputs": [
    {
     "data": {
      "text/plain": [
       "torch.Size([2])"
      ]
     },
     "execution_count": 7,
     "metadata": {},
     "output_type": "execute_result"
    }
   ],
   "source": [
    "vector.shape"
   ]
  },
  {
   "cell_type": "code",
   "execution_count": 8,
   "id": "e927f5a9",
   "metadata": {},
   "outputs": [
    {
     "data": {
      "text/plain": [
       "tensor([[1, 4],\n",
       "        [3, 6]])"
      ]
     },
     "execution_count": 8,
     "metadata": {},
     "output_type": "execute_result"
    }
   ],
   "source": [
    "MATRIX = torch.tensor([[1, 4], [3, 6]])\n",
    "MATRIX"
   ]
  },
  {
   "cell_type": "code",
   "execution_count": 9,
   "id": "3a401fb8",
   "metadata": {},
   "outputs": [
    {
     "data": {
      "text/plain": [
       "2"
      ]
     },
     "execution_count": 9,
     "metadata": {},
     "output_type": "execute_result"
    }
   ],
   "source": [
    "MATRIX.ndim"
   ]
  },
  {
   "cell_type": "code",
   "execution_count": 10,
   "id": "2907ba2c",
   "metadata": {},
   "outputs": [
    {
     "data": {
      "text/plain": [
       "torch.Size([2, 2])"
      ]
     },
     "execution_count": 10,
     "metadata": {},
     "output_type": "execute_result"
    }
   ],
   "source": [
    "MATRIX.shape"
   ]
  },
  {
   "cell_type": "code",
   "execution_count": 11,
   "id": "f0f04270",
   "metadata": {},
   "outputs": [],
   "source": [
    "TENSOR = torch.tensor([\n",
    "    [[1, 2, 3], \n",
    "    [4, 5, 6]], \n",
    "    \n",
    "    [[10, 20, 30],\n",
    "    [40, 50, 60]], \n",
    "    \n",
    "    [[7, 8, 9], \n",
    "    [70, 80, 90]]\n",
    "])"
   ]
  },
  {
   "cell_type": "code",
   "execution_count": 12,
   "id": "c59cb5d6",
   "metadata": {},
   "outputs": [
    {
     "data": {
      "text/plain": [
       "torch.Size([3, 2, 3])"
      ]
     },
     "execution_count": 12,
     "metadata": {},
     "output_type": "execute_result"
    }
   ],
   "source": [
    "TENSOR.shape"
   ]
  },
  {
   "cell_type": "code",
   "execution_count": 13,
   "id": "7722cb38",
   "metadata": {},
   "outputs": [
    {
     "data": {
      "text/plain": [
       "tensor([[ 7,  8,  9],\n",
       "        [70, 80, 90]])"
      ]
     },
     "execution_count": 13,
     "metadata": {},
     "output_type": "execute_result"
    }
   ],
   "source": [
    "TENSOR[2]"
   ]
  },
  {
   "cell_type": "code",
   "execution_count": 14,
   "id": "edc783a7",
   "metadata": {},
   "outputs": [],
   "source": [
    "TENSOR2 = torch.tensor([\n",
    "    [[1, 5], \n",
    "    [4, 3]], \n",
    "    \n",
    "    [[8, 1], \n",
    "    [6, 4]], \n",
    "    \n",
    "    [[12, 7],\n",
    "    [6, 14]]\n",
    "])"
   ]
  },
  {
   "cell_type": "code",
   "execution_count": 15,
   "id": "8ad43cae",
   "metadata": {},
   "outputs": [
    {
     "data": {
      "text/plain": [
       "torch.Size([3, 2, 2])"
      ]
     },
     "execution_count": 15,
     "metadata": {},
     "output_type": "execute_result"
    }
   ],
   "source": [
    "TENSOR2.shape"
   ]
  },
  {
   "cell_type": "code",
   "execution_count": 16,
   "id": "45bc0ce5",
   "metadata": {},
   "outputs": [
    {
     "data": {
      "text/plain": [
       "tensor([[8, 1],\n",
       "        [6, 4]])"
      ]
     },
     "execution_count": 16,
     "metadata": {},
     "output_type": "execute_result"
    }
   ],
   "source": [
    "TENSOR2[1]"
   ]
  },
  {
   "cell_type": "markdown",
   "id": "a03c7ed0",
   "metadata": {},
   "source": [
    "- ### Random Tensors :\n",
    "\n",
    "why?\n",
    "\n",
    "Neural Networks :\n",
    "\n",
    "`start with random tensors -> look at data -> update random numbers -> look at data -> update random`"
   ]
  },
  {
   "cell_type": "code",
   "execution_count": 17,
   "id": "74bd73dd",
   "metadata": {},
   "outputs": [
    {
     "data": {
      "text/plain": [
       "tensor([[[0.2114, 0.8078, 0.7621],\n",
       "         [0.8477, 0.5657, 0.6233],\n",
       "         [0.2525, 0.8945, 0.5868]],\n",
       "\n",
       "        [[0.1191, 0.9336, 0.5704],\n",
       "         [0.0780, 0.3438, 0.7488],\n",
       "         [0.0422, 0.8427, 0.9752]]])"
      ]
     },
     "execution_count": 17,
     "metadata": {},
     "output_type": "execute_result"
    }
   ],
   "source": [
    "random_tensor1= torch.rand(2, 3, 3)\n",
    "random_tensor1"
   ]
  },
  {
   "cell_type": "code",
   "execution_count": 18,
   "id": "f0c77828",
   "metadata": {},
   "outputs": [
    {
     "data": {
      "text/plain": [
       "tensor([[0.6923, 0.6503, 0.9896,  ..., 0.2573, 0.5298, 0.7189],\n",
       "        [0.1030, 0.5961, 0.8768,  ..., 0.7535, 0.0961, 0.2946],\n",
       "        [0.9763, 0.2225, 0.1998,  ..., 0.1486, 0.8694, 0.3298],\n",
       "        ...,\n",
       "        [0.6996, 0.5320, 0.6097,  ..., 0.6547, 0.4159, 0.8297],\n",
       "        [0.5658, 0.1209, 0.8035,  ..., 0.8603, 0.7371, 0.6985],\n",
       "        [0.9442, 0.0258, 0.7913,  ..., 0.3404, 0.7458, 0.1121]])"
      ]
     },
     "execution_count": 18,
     "metadata": {},
     "output_type": "execute_result"
    }
   ],
   "source": [
    "# create a random tensor similar to an image :\n",
    "image_tensor = torch.rand(size=(3, 224, 224)) #channels, height, width\n",
    "image_tensor[0]"
   ]
  },
  {
   "cell_type": "code",
   "execution_count": 19,
   "id": "f475ade2",
   "metadata": {},
   "outputs": [],
   "source": [
    "random_tensor2 = torch.rand_like(image_tensor)"
   ]
  },
  {
   "cell_type": "code",
   "execution_count": 20,
   "id": "af227bae",
   "metadata": {},
   "outputs": [],
   "source": [
    "### Zeros & Ones ###"
   ]
  },
  {
   "cell_type": "code",
   "execution_count": 21,
   "id": "722a06a5",
   "metadata": {},
   "outputs": [
    {
     "data": {
      "text/plain": [
       "tensor([[0., 0.],\n",
       "        [0., 0.],\n",
       "        [0., 0.]])"
      ]
     },
     "execution_count": 21,
     "metadata": {},
     "output_type": "execute_result"
    }
   ],
   "source": [
    "torch.zeros(3, 2)"
   ]
  },
  {
   "cell_type": "code",
   "execution_count": 22,
   "id": "c3fd66d8",
   "metadata": {},
   "outputs": [
    {
     "data": {
      "text/plain": [
       "tensor([[1., 1., 1., 1.],\n",
       "        [1., 1., 1., 1.],\n",
       "        [1., 1., 1., 1.]])"
      ]
     },
     "execution_count": 22,
     "metadata": {},
     "output_type": "execute_result"
    }
   ],
   "source": [
    "ones = torch.ones(3, 4)\n",
    "ones"
   ]
  },
  {
   "cell_type": "code",
   "execution_count": 23,
   "id": "bb42e437",
   "metadata": {},
   "outputs": [
    {
     "data": {
      "text/plain": [
       "torch.float32"
      ]
     },
     "execution_count": 23,
     "metadata": {},
     "output_type": "execute_result"
    }
   ],
   "source": [
    "ones.dtype"
   ]
  },
  {
   "cell_type": "code",
   "execution_count": 24,
   "id": "2f52a78c",
   "metadata": {},
   "outputs": [],
   "source": [
    "### Create a range and Tensor-like:"
   ]
  },
  {
   "cell_type": "code",
   "execution_count": 25,
   "id": "2f479fb7",
   "metadata": {},
   "outputs": [
    {
     "data": {
      "text/plain": [
       "tensor([ 4, 12, 20, 28, 36, 44, 52])"
      ]
     },
     "execution_count": 25,
     "metadata": {},
     "output_type": "execute_result"
    }
   ],
   "source": [
    "torch.arange(start=4, end=53, step=8)"
   ]
  },
  {
   "cell_type": "markdown",
   "id": "264b0f14",
   "metadata": {},
   "source": [
    "- ### Tensor datatype:"
   ]
  },
  {
   "cell_type": "code",
   "execution_count": 26,
   "id": "f3a653eb",
   "metadata": {},
   "outputs": [
    {
     "data": {
      "text/plain": [
       "tensor([1., 5., 9.])"
      ]
     },
     "execution_count": 26,
     "metadata": {},
     "output_type": "execute_result"
    }
   ],
   "source": [
    "float_tensor = torch.tensor([1.0, 5.0, 9.0], \n",
    "                            dtype = None, # related to precision in computing\n",
    "                            device= None, # default:\"cpu\", on GPU:\"cuda\"\n",
    "                            requires_grad = False # track gradients with this tensor operations\n",
    ")\n",
    "float_tensor"
   ]
  },
  {
   "cell_type": "code",
   "execution_count": 27,
   "id": "62433fb8",
   "metadata": {},
   "outputs": [
    {
     "data": {
      "text/plain": [
       "torch.float32"
      ]
     },
     "execution_count": 27,
     "metadata": {},
     "output_type": "execute_result"
    }
   ],
   "source": [
    "float_tensor.dtype"
   ]
  },
  {
   "cell_type": "code",
   "execution_count": 28,
   "id": "ed3d05cd",
   "metadata": {},
   "outputs": [
    {
     "data": {
      "text/plain": [
       "tensor([1., 5., 9.], dtype=torch.float16)"
      ]
     },
     "execution_count": 28,
     "metadata": {},
     "output_type": "execute_result"
    }
   ],
   "source": [
    "float_16 = float_tensor.type(torch.float16)\n",
    "float_16"
   ]
  },
  {
   "cell_type": "markdown",
   "id": "b675b116",
   "metadata": {},
   "source": [
    "### Getting information from tensors :\n",
    "\n",
    "- **shape** - what shape is the tensor? (some operations require specific shape rules)\n",
    "\n",
    "\n",
    "- **dtype** - what datatype are the elements within the tensor stored in?\n",
    "\n",
    "\n",
    "- **device** - what device is the tensor stored on? (usually GPU or CPU)"
   ]
  },
  {
   "cell_type": "code",
   "execution_count": 30,
   "id": "07a7cd0c",
   "metadata": {},
   "outputs": [
    {
     "data": {
      "text/plain": [
       "tensor([[[5.9603e-01, 7.0994e-01, 2.8366e-01, 9.7744e-01],\n",
       "         [2.6968e-01, 6.8937e-01, 3.8064e-01, 6.1002e-01],\n",
       "         [1.1620e-01, 3.6166e-01, 3.6087e-01, 8.5777e-01]],\n",
       "\n",
       "        [[3.2064e-01, 9.5797e-01, 6.6612e-01, 4.0722e-01],\n",
       "         [9.3794e-04, 3.0133e-01, 4.4130e-01, 1.5795e-01],\n",
       "         [9.9943e-01, 8.8952e-01, 9.6605e-01, 6.9500e-01]]])"
      ]
     },
     "execution_count": 30,
     "metadata": {},
     "output_type": "execute_result"
    }
   ],
   "source": [
    "tensor_info = torch.rand(2, 3, 4)\n",
    "tensor_info"
   ]
  },
  {
   "cell_type": "code",
   "execution_count": 31,
   "id": "c90ac125",
   "metadata": {},
   "outputs": [
    {
     "data": {
      "text/plain": [
       "torch.Size([2, 3, 4])"
      ]
     },
     "execution_count": 31,
     "metadata": {},
     "output_type": "execute_result"
    }
   ],
   "source": [
    "tensor_info.shape"
   ]
  },
  {
   "cell_type": "code",
   "execution_count": 32,
   "id": "dbc15fdb",
   "metadata": {},
   "outputs": [
    {
     "data": {
      "text/plain": [
       "torch.float32"
      ]
     },
     "execution_count": 32,
     "metadata": {},
     "output_type": "execute_result"
    }
   ],
   "source": [
    "tensor_info.dtype"
   ]
  },
  {
   "cell_type": "code",
   "execution_count": 33,
   "id": "d9ed2fbc",
   "metadata": {},
   "outputs": [
    {
     "data": {
      "text/plain": [
       "device(type='cpu')"
      ]
     },
     "execution_count": 33,
     "metadata": {},
     "output_type": "execute_result"
    }
   ],
   "source": [
    "tensor_info.device"
   ]
  },
  {
   "cell_type": "code",
   "execution_count": 35,
   "id": "19ef89f0",
   "metadata": {},
   "outputs": [
    {
     "data": {
      "text/plain": [
       "torch.Size([2, 3, 4])"
      ]
     },
     "execution_count": 35,
     "metadata": {},
     "output_type": "execute_result"
    }
   ],
   "source": [
    "tensor_info.size()"
   ]
  },
  {
   "cell_type": "markdown",
   "id": "b26055b2",
   "metadata": {},
   "source": [
    "### Manipulating Tensors (Tensor Operations)\n",
    "\n",
    "- Addition\n",
    "- Subtraction\n",
    "- Multiplication (element-wise)\n",
    "- Division\n",
    "- **Matrix multiplication(dot product)**"
   ]
  },
  {
   "cell_type": "code",
   "execution_count": 37,
   "id": "18b83afa",
   "metadata": {},
   "outputs": [
    {
     "data": {
      "text/plain": [
       "tensor([[ 5, 11],\n",
       "        [ 7,  7],\n",
       "        [ 5,  7]])"
      ]
     },
     "execution_count": 37,
     "metadata": {},
     "output_type": "execute_result"
    }
   ],
   "source": [
    "tensor1 = torch.randint(1, 12, (3,2))\n",
    "tensor1"
   ]
  },
  {
   "cell_type": "code",
   "execution_count": 38,
   "id": "f5632c39",
   "metadata": {},
   "outputs": [
    {
     "data": {
      "text/plain": [
       "tensor([[16,  5,  7,  5],\n",
       "        [15, 10, 14, 14]])"
      ]
     },
     "execution_count": 38,
     "metadata": {},
     "output_type": "execute_result"
    }
   ],
   "source": [
    "tensor2 = torch.randint(5, 18, (2,4))\n",
    "tensor2"
   ]
  },
  {
   "cell_type": "code",
   "execution_count": 47,
   "id": "b5082fd1",
   "metadata": {},
   "outputs": [
    {
     "name": "stdout",
     "output_type": "stream",
     "text": [
      "tensor([[ 5, 11],\n",
      "        [ 7,  7],\n",
      "        [ 5,  7]])\n",
      "\n",
      "\n",
      "tensor([[ 25, 121],\n",
      "        [ 49,  49],\n",
      "        [ 25,  49]])\n"
     ]
    }
   ],
   "source": [
    "# Element wise\n",
    "print(tensor1)\n",
    "print('\\n')\n",
    "print(tensor1*tensor1)"
   ]
  },
  {
   "cell_type": "code",
   "execution_count": 55,
   "id": "c9e76749",
   "metadata": {},
   "outputs": [
    {
     "name": "stdout",
     "output_type": "stream",
     "text": [
      "CPU times: total: 0 ns\n",
      "Wall time: 0 ns\n"
     ]
    },
    {
     "data": {
      "text/plain": [
       "tensor([[245, 135, 189, 179],\n",
       "        [217, 105, 147, 133],\n",
       "        [185,  95, 133, 123]])"
      ]
     },
     "execution_count": 55,
     "metadata": {},
     "output_type": "execute_result"
    }
   ],
   "source": [
    "# Matrix Multiplication\n",
    "%time\n",
    "\n",
    "torch.matmul(tensor1, tensor2)"
   ]
  },
  {
   "cell_type": "code",
   "execution_count": 56,
   "id": "baaa295a",
   "metadata": {},
   "outputs": [
    {
     "name": "stdout",
     "output_type": "stream",
     "text": [
      "CPU times: total: 0 ns\n",
      "Wall time: 0 ns\n"
     ]
    },
    {
     "data": {
      "text/plain": [
       "tensor([[245, 135, 189, 179],\n",
       "        [217, 105, 147, 133],\n",
       "        [185,  95, 133, 123]])"
      ]
     },
     "execution_count": 56,
     "metadata": {},
     "output_type": "execute_result"
    }
   ],
   "source": [
    "%%time\n",
    "\n",
    "tensor1@ tensor2"
   ]
  },
  {
   "cell_type": "code",
   "execution_count": 57,
   "id": "aa0e44f9",
   "metadata": {},
   "outputs": [
    {
     "data": {
      "text/plain": [
       "tensor([[245, 135, 189, 179],\n",
       "        [217, 105, 147, 133],\n",
       "        [185,  95, 133, 123]])"
      ]
     },
     "execution_count": 57,
     "metadata": {},
     "output_type": "execute_result"
    }
   ],
   "source": [
    "torch.mm(tensor1, tensor2)"
   ]
  },
  {
   "cell_type": "code",
   "execution_count": 61,
   "id": "0572884d",
   "metadata": {},
   "outputs": [
    {
     "data": {
      "text/plain": [
       "tensor([[146, 112, 102],\n",
       "        [112,  98,  84],\n",
       "        [102,  84,  74]])"
      ]
     },
     "execution_count": 61,
     "metadata": {},
     "output_type": "execute_result"
    }
   ],
   "source": [
    "# Transpose : switches axes or dimension\n",
    "torch.matmul(tensor1, tensor1.T)"
   ]
  },
  {
   "cell_type": "code",
   "execution_count": 63,
   "id": "9862e09b",
   "metadata": {},
   "outputs": [
    {
     "data": {
      "text/plain": [
       "tensor([[ 5, 11],\n",
       "        [ 7,  7],\n",
       "        [ 5,  7]])"
      ]
     },
     "execution_count": 63,
     "metadata": {},
     "output_type": "execute_result"
    }
   ],
   "source": [
    "tensor1"
   ]
  },
  {
   "cell_type": "markdown",
   "id": "8ca40ef5",
   "metadata": {},
   "source": [
    "- ### find min, max, mean, sum, etc (Tensor Aggregation)"
   ]
  },
  {
   "cell_type": "code",
   "execution_count": 68,
   "id": "9fc0cc95",
   "metadata": {},
   "outputs": [
    {
     "data": {
      "text/plain": [
       "torch.int64"
      ]
     },
     "execution_count": 68,
     "metadata": {},
     "output_type": "execute_result"
    }
   ],
   "source": [
    "tensor1.dtype"
   ]
  },
  {
   "cell_type": "code",
   "execution_count": 71,
   "id": "938e4296",
   "metadata": {},
   "outputs": [
    {
     "data": {
      "text/plain": [
       "tensor(7.)"
      ]
     },
     "execution_count": 71,
     "metadata": {},
     "output_type": "execute_result"
    }
   ],
   "source": [
    "torch.mean(tensor1, dtype=torch.float32)"
   ]
  },
  {
   "cell_type": "markdown",
   "id": "f9b1bc87",
   "metadata": {},
   "source": [
    "- ### find Positional min and max -> helpful with softmax"
   ]
  },
  {
   "cell_type": "code",
   "execution_count": 76,
   "id": "5448e6bb",
   "metadata": {},
   "outputs": [
    {
     "data": {
      "text/plain": [
       "tensor([[23,  6, 13, 17],\n",
       "        [12,  9, 11, 13],\n",
       "        [14,  7,  5, 24]])"
      ]
     },
     "execution_count": 76,
     "metadata": {},
     "output_type": "execute_result"
    }
   ],
   "source": [
    "tensor3 = torch.randint(5, 25, (3, 4))\n",
    "tensor3"
   ]
  },
  {
   "cell_type": "code",
   "execution_count": 77,
   "id": "5f80323d",
   "metadata": {},
   "outputs": [
    {
     "data": {
      "text/plain": [
       "tensor(10)"
      ]
     },
     "execution_count": 77,
     "metadata": {},
     "output_type": "execute_result"
    }
   ],
   "source": [
    "# position min -> return min index\n",
    "torch.argmin(tensor3)"
   ]
  },
  {
   "cell_type": "code",
   "execution_count": 78,
   "id": "dfaabc92",
   "metadata": {},
   "outputs": [
    {
     "data": {
      "text/plain": [
       "tensor(11)"
      ]
     },
     "execution_count": 78,
     "metadata": {},
     "output_type": "execute_result"
    }
   ],
   "source": [
    "# position max -> return max index\n",
    "torch.argmax(tensor3)"
   ]
  },
  {
   "cell_type": "markdown",
   "id": "9fd54789",
   "metadata": {},
   "source": [
    "### reshaping, stacking, squeeze, unsqueeze\n",
    "\n",
    "* **torch.reshape(input, shape)** :\n",
    "Reshapes input to shape (if compatible), can also use torch.Tensor.reshape().\n",
    "\n",
    "\n",
    "* **torch.Tensor.view(shape) :**\n",
    "Returns a view of the original tensor in a different shape but shares the same data as the original tensor.\n",
    "\n",
    "\n",
    "* **torch.stack(tensors, dim=0) :**\n",
    "Concatenates a sequence of tensors along a new dimension (dim), all tensors must be same size.\n",
    "\n",
    "\n",
    "* **torch.squeeze(input) :**\n",
    "Squeezes input to remove all the dimenions with value 1.\n",
    "\n",
    "\n",
    "* **torch.unsqueeze(input, dim) :**\n",
    "Returns input with a dimension value of 1 added at dim.\n",
    "\n",
    "\n",
    "* **torch.permute(input, dims):**\n",
    "Returns a view of the original input with its dimensions permuted (rearranged) to dims."
   ]
  },
  {
   "cell_type": "code",
   "execution_count": 103,
   "id": "94c8d5d6",
   "metadata": {},
   "outputs": [
    {
     "data": {
      "text/plain": [
       "tensor([[4, 0],\n",
       "        [0, 0]])"
      ]
     },
     "execution_count": 103,
     "metadata": {},
     "output_type": "execute_result"
    }
   ],
   "source": [
    "my_tensor1 = torch.randint(0, 5, (2, 2))\n",
    "my_tensor1"
   ]
  },
  {
   "cell_type": "code",
   "execution_count": 104,
   "id": "2120bafa",
   "metadata": {},
   "outputs": [
    {
     "data": {
      "text/plain": [
       "tensor([[19, 12],\n",
       "        [14, 17]])"
      ]
     },
     "execution_count": 104,
     "metadata": {},
     "output_type": "execute_result"
    }
   ],
   "source": [
    "my_tensor2 = torch.randint(10, 20, (2, 2))\n",
    "my_tensor2"
   ]
  },
  {
   "cell_type": "code",
   "execution_count": 116,
   "id": "e88b0351",
   "metadata": {},
   "outputs": [
    {
     "data": {
      "text/plain": [
       "tensor([[[ 4,  0],\n",
       "         [ 0,  0]],\n",
       "\n",
       "        [[19, 12],\n",
       "         [14, 17]]])"
      ]
     },
     "execution_count": 116,
     "metadata": {},
     "output_type": "execute_result"
    }
   ],
   "source": [
    "torch.stack([my_tensor1, my_tensor2], dim=0)"
   ]
  },
  {
   "cell_type": "code",
   "execution_count": 108,
   "id": "614a5d05",
   "metadata": {},
   "outputs": [
    {
     "data": {
      "text/plain": [
       "tensor([[ 4,  0, 19, 12],\n",
       "        [ 0,  0, 14, 17]])"
      ]
     },
     "execution_count": 108,
     "metadata": {},
     "output_type": "execute_result"
    }
   ],
   "source": [
    "torch.hstack([my_tensor1, my_tensor2])"
   ]
  },
  {
   "cell_type": "code",
   "execution_count": 109,
   "id": "81e73d7a",
   "metadata": {},
   "outputs": [
    {
     "data": {
      "text/plain": [
       "tensor([[ 4,  0],\n",
       "        [ 0,  0],\n",
       "        [19, 12],\n",
       "        [14, 17]])"
      ]
     },
     "execution_count": 109,
     "metadata": {},
     "output_type": "execute_result"
    }
   ],
   "source": [
    "torch.vstack([my_tensor1, my_tensor2])"
   ]
  },
  {
   "cell_type": "code",
   "execution_count": 117,
   "id": "df16bfce",
   "metadata": {},
   "outputs": [
    {
     "data": {
      "text/plain": [
       "tensor([[12, 16,  2,  1],\n",
       "        [15, 10, 13, 11],\n",
       "        [ 4,  2,  0,  1]])"
      ]
     },
     "execution_count": 117,
     "metadata": {},
     "output_type": "execute_result"
    }
   ],
   "source": [
    "torch.squeeze(my_tensor)"
   ]
  },
  {
   "cell_type": "code",
   "execution_count": 119,
   "id": "0ab1c82b",
   "metadata": {},
   "outputs": [
    {
     "data": {
      "text/plain": [
       "tensor([[12, 16,  2,  1],\n",
       "        [15, 10, 13, 11],\n",
       "        [ 4,  2,  0,  1]])"
      ]
     },
     "execution_count": 119,
     "metadata": {},
     "output_type": "execute_result"
    }
   ],
   "source": [
    "my_tensor"
   ]
  },
  {
   "cell_type": "code",
   "execution_count": 120,
   "id": "8fa193c8",
   "metadata": {},
   "outputs": [
    {
     "data": {
      "text/plain": [
       "tensor([[[0.2921],\n",
       "         [0.2677],\n",
       "         [0.7442]]])"
      ]
     },
     "execution_count": 120,
     "metadata": {},
     "output_type": "execute_result"
    }
   ],
   "source": [
    "## Squeeze ## : removes all single dimensions from a target tensor\n",
    "x1 = torch.rand(1, 3, 1)\n",
    "x1"
   ]
  },
  {
   "cell_type": "code",
   "execution_count": 121,
   "id": "bfcabe15",
   "metadata": {},
   "outputs": [
    {
     "data": {
      "text/plain": [
       "torch.Size([1, 3, 1])"
      ]
     },
     "execution_count": 121,
     "metadata": {},
     "output_type": "execute_result"
    }
   ],
   "source": [
    "x1.shape"
   ]
  },
  {
   "cell_type": "code",
   "execution_count": 123,
   "id": "b54282fe",
   "metadata": {},
   "outputs": [
    {
     "data": {
      "text/plain": [
       "tensor([0.2921, 0.2677, 0.7442])"
      ]
     },
     "execution_count": 123,
     "metadata": {},
     "output_type": "execute_result"
    }
   ],
   "source": [
    "y1 = torch.squeeze(x1)\n",
    "y1"
   ]
  },
  {
   "cell_type": "code",
   "execution_count": 124,
   "id": "02805a8d",
   "metadata": {},
   "outputs": [
    {
     "data": {
      "text/plain": [
       "torch.Size([3])"
      ]
     },
     "execution_count": 124,
     "metadata": {},
     "output_type": "execute_result"
    }
   ],
   "source": [
    "y1.shape"
   ]
  },
  {
   "cell_type": "code",
   "execution_count": 131,
   "id": "7c51be93",
   "metadata": {},
   "outputs": [
    {
     "name": "stdout",
     "output_type": "stream",
     "text": [
      "Pre Squeeze Tensor :\n",
      " tensor([[[0.2921],\n",
      "         [0.2677],\n",
      "         [0.7442]]])\n",
      "Tensor shape :\n",
      " torch.Size([1, 3, 1])\n",
      "\n",
      "Squeezing...\n",
      "\n",
      "New Tensor :\n",
      " tensor([0.2921, 0.2677, 0.7442])\n",
      "Tensor shape :\n",
      " torch.Size([3])\n"
     ]
    }
   ],
   "source": [
    "print(\"Pre Squeeze Tensor :\\n\" , x1)\n",
    "print(\"Tensor shape :\\n\", x1.shape)\n",
    "\n",
    "\n",
    "print('\\nSqueezing...\\n')\n",
    "\n",
    "print(\"New Tensor :\\n\", y1)\n",
    "print(\"Tensor shape :\\n\", y1.shape)"
   ]
  },
  {
   "cell_type": "code",
   "execution_count": 135,
   "id": "ab96c927",
   "metadata": {},
   "outputs": [
    {
     "name": "stdout",
     "output_type": "stream",
     "text": [
      "pre target :\n",
      " tensor([0.2921, 0.2677, 0.7442])\n",
      "pre target shape :\n",
      " torch.Size([3])\n",
      "New tensor :\n",
      " tensor([[0.2921, 0.2677, 0.7442]])\n",
      "New shape :\n",
      " torch.Size([1, 3])\n"
     ]
    }
   ],
   "source": [
    "## unsqueeze## : add a single dimension to a target tensor at specific dimension\n",
    "\n",
    "print('pre target :\\n', y1)\n",
    "print('pre target shape :\\n', y1.shape)\n",
    "\n",
    "# add extra dim with unsqueeze:\n",
    "z1 = torch.unsqueeze(y1, dim=0)\n",
    "print('New tensor :\\n', z1)\n",
    "print('New shape :\\n', z1.shape)"
   ]
  },
  {
   "cell_type": "code",
   "execution_count": 137,
   "id": "819ece92",
   "metadata": {},
   "outputs": [
    {
     "data": {
      "text/plain": [
       "torch.Size([3, 224, 224])"
      ]
     },
     "execution_count": 137,
     "metadata": {},
     "output_type": "execute_result"
    }
   ],
   "source": [
    "## permute ## rearranges the dimensions of a target tensor\n",
    "x_original = torch.rand(size=(224, 224, 3)) # height, width, color_channel\n",
    "\n",
    "# permute returns a different **view** of original tensor\n",
    "x_permuted = torch.permute(x_original, (2, 0, 1)) # rearrange color channel\n",
    "x_permuted.shape"
   ]
  },
  {
   "cell_type": "markdown",
   "id": "45991ee5",
   "metadata": {},
   "source": [
    "- ### PyTorch & Numpy\n",
    "\n",
    "* Numpy array -> PyTorch tensor : `torch.from_numpy()`\n",
    "\n",
    "* PyTorch tensor -> Numpy array : `torch.Tensor.numpy()`"
   ]
  },
  {
   "cell_type": "code",
   "execution_count": 138,
   "id": "ae6f3c5b",
   "metadata": {},
   "outputs": [],
   "source": [
    "import numpy as np"
   ]
  },
  {
   "cell_type": "code",
   "execution_count": 139,
   "id": "02d2e9a0",
   "metadata": {},
   "outputs": [
    {
     "data": {
      "text/plain": [
       "array([[ 5,  6, 18],\n",
       "       [10,  7, 19],\n",
       "       [ 4, 16, 19]])"
      ]
     },
     "execution_count": 139,
     "metadata": {},
     "output_type": "execute_result"
    }
   ],
   "source": [
    "array_ = np.random.randint(1, 20, (3,3))\n",
    "array_"
   ]
  },
  {
   "cell_type": "code",
   "execution_count": 140,
   "id": "2e82cc32",
   "metadata": {},
   "outputs": [
    {
     "data": {
      "text/plain": [
       "tensor([[ 5,  6, 18],\n",
       "        [10,  7, 19],\n",
       "        [ 4, 16, 19]], dtype=torch.int32)"
      ]
     },
     "execution_count": 140,
     "metadata": {},
     "output_type": "execute_result"
    }
   ],
   "source": [
    "torch.from_numpy(array_)"
   ]
  },
  {
   "cell_type": "code",
   "execution_count": 144,
   "id": "b3c7ce9a",
   "metadata": {},
   "outputs": [
    {
     "data": {
      "text/plain": [
       "array([[12, 16,  2,  1],\n",
       "       [15, 10, 13, 11],\n",
       "       [ 4,  2,  0,  1]], dtype=int64)"
      ]
     },
     "execution_count": 144,
     "metadata": {},
     "output_type": "execute_result"
    }
   ],
   "source": [
    "torch.Tensor.numpy(my_tensor)"
   ]
  },
  {
   "cell_type": "code",
   "execution_count": 145,
   "id": "4e5c411c",
   "metadata": {},
   "outputs": [
    {
     "data": {
      "text/plain": [
       "array([[12, 16,  2,  1],\n",
       "       [15, 10, 13, 11],\n",
       "       [ 4,  2,  0,  1]], dtype=int64)"
      ]
     },
     "execution_count": 145,
     "metadata": {},
     "output_type": "execute_result"
    }
   ],
   "source": [
    "my_tensor.numpy()"
   ]
  },
  {
   "cell_type": "markdown",
   "id": "9d209c93",
   "metadata": {},
   "source": [
    "- ### Reproducibility (trying to take random out of random)"
   ]
  },
  {
   "cell_type": "code",
   "execution_count": 157,
   "id": "6127d0e1",
   "metadata": {},
   "outputs": [
    {
     "name": "stdout",
     "output_type": "stream",
     "text": [
      "tensor([[True, True, True],\n",
      "        [True, True, True],\n",
      "        [True, True, True]])\n"
     ]
    }
   ],
   "source": [
    "torch.manual_seed(42)\n",
    "TensorA = torch.rand((3, 3))\n",
    "\n",
    "torch.manual_seed(42)\n",
    "TensorB = torch.rand((3, 3))\n",
    "\n",
    "print(TensorA == TensorB)"
   ]
  },
  {
   "cell_type": "markdown",
   "id": "39daa208",
   "metadata": {},
   "source": [
    "### Access GPU\n",
    "\n",
    "- running tensors and Pytorch objects on GPU (and Making faster computations)\n",
    "\n",
    "* setup device-agnostic code"
   ]
  },
  {
   "cell_type": "code",
   "execution_count": 158,
   "id": "897f59f6",
   "metadata": {},
   "outputs": [
    {
     "data": {
      "text/plain": [
       "True"
      ]
     },
     "execution_count": 158,
     "metadata": {},
     "output_type": "execute_result"
    }
   ],
   "source": [
    "# verify GPU:\n",
    "torch.cuda.is_available()"
   ]
  },
  {
   "cell_type": "code",
   "execution_count": 159,
   "id": "ebb3afcb",
   "metadata": {},
   "outputs": [
    {
     "data": {
      "text/plain": [
       "'cuda'"
      ]
     },
     "execution_count": 159,
     "metadata": {},
     "output_type": "execute_result"
    }
   ],
   "source": [
    "device = \"cuda\" if torch.cuda.is_available() else \"cpu\"\n",
    "device"
   ]
  },
  {
   "cell_type": "code",
   "execution_count": 160,
   "id": "5bd31c6c",
   "metadata": {},
   "outputs": [
    {
     "data": {
      "text/plain": [
       "1"
      ]
     },
     "execution_count": 160,
     "metadata": {},
     "output_type": "execute_result"
    }
   ],
   "source": [
    "torch.cuda.device_count()"
   ]
  },
  {
   "cell_type": "code",
   "execution_count": null,
   "id": "145ea1b9",
   "metadata": {},
   "outputs": [],
   "source": [
    "   "
   ]
  }
 ],
 "metadata": {
  "kernelspec": {
   "display_name": "Python 3 (ipykernel)",
   "language": "python",
   "name": "python3"
  },
  "language_info": {
   "codemirror_mode": {
    "name": "ipython",
    "version": 3
   },
   "file_extension": ".py",
   "mimetype": "text/x-python",
   "name": "python",
   "nbconvert_exporter": "python",
   "pygments_lexer": "ipython3",
   "version": "3.8.17"
  }
 },
 "nbformat": 4,
 "nbformat_minor": 5
}
