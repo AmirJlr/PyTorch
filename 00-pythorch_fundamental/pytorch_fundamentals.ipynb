{
 "cells": [
  {
   "cell_type": "code",
   "execution_count": 1,
   "id": "5759f0c2",
   "metadata": {},
   "outputs": [],
   "source": [
    "import torch"
   ]
  },
  {
   "cell_type": "markdown",
   "id": "20f9a388",
   "metadata": {},
   "source": [
    "- ### Introduction to Tensors :"
   ]
  },
  {
   "cell_type": "code",
   "execution_count": 2,
   "id": "483eddfe",
   "metadata": {},
   "outputs": [
    {
     "data": {
      "text/plain": [
       "tensor(3)"
      ]
     },
     "execution_count": 2,
     "metadata": {},
     "output_type": "execute_result"
    }
   ],
   "source": [
    "# creating tensor:\n",
    "\n",
    "scaler = torch.tensor(3)\n",
    "scaler"
   ]
  },
  {
   "cell_type": "code",
   "execution_count": 3,
   "id": "85e7b2b2",
   "metadata": {},
   "outputs": [
    {
     "data": {
      "text/plain": [
       "0"
      ]
     },
     "execution_count": 3,
     "metadata": {},
     "output_type": "execute_result"
    }
   ],
   "source": [
    "scaler.ndim"
   ]
  },
  {
   "cell_type": "code",
   "execution_count": 4,
   "id": "ecf62da3",
   "metadata": {},
   "outputs": [
    {
     "data": {
      "text/plain": [
       "3"
      ]
     },
     "execution_count": 4,
     "metadata": {},
     "output_type": "execute_result"
    }
   ],
   "source": [
    "# back to python int\n",
    "scaler.item()"
   ]
  },
  {
   "cell_type": "code",
   "execution_count": 5,
   "id": "d629cc44",
   "metadata": {},
   "outputs": [
    {
     "data": {
      "text/plain": [
       "tensor([4, 9])"
      ]
     },
     "execution_count": 5,
     "metadata": {},
     "output_type": "execute_result"
    }
   ],
   "source": [
    "vector = torch.tensor([4, 9])\n",
    "vector"
   ]
  },
  {
   "cell_type": "code",
   "execution_count": 6,
   "id": "a9ebd5e6",
   "metadata": {},
   "outputs": [
    {
     "data": {
      "text/plain": [
       "1"
      ]
     },
     "execution_count": 6,
     "metadata": {},
     "output_type": "execute_result"
    }
   ],
   "source": [
    "vector.ndim"
   ]
  },
  {
   "cell_type": "code",
   "execution_count": 7,
   "id": "63571a35",
   "metadata": {},
   "outputs": [
    {
     "data": {
      "text/plain": [
       "torch.Size([2])"
      ]
     },
     "execution_count": 7,
     "metadata": {},
     "output_type": "execute_result"
    }
   ],
   "source": [
    "vector.shape"
   ]
  },
  {
   "cell_type": "code",
   "execution_count": 8,
   "id": "e927f5a9",
   "metadata": {},
   "outputs": [
    {
     "data": {
      "text/plain": [
       "tensor([[1, 4],\n",
       "        [3, 6]])"
      ]
     },
     "execution_count": 8,
     "metadata": {},
     "output_type": "execute_result"
    }
   ],
   "source": [
    "MATRIX = torch.tensor([[1, 4], [3, 6]])\n",
    "MATRIX"
   ]
  },
  {
   "cell_type": "code",
   "execution_count": 9,
   "id": "3a401fb8",
   "metadata": {},
   "outputs": [
    {
     "data": {
      "text/plain": [
       "2"
      ]
     },
     "execution_count": 9,
     "metadata": {},
     "output_type": "execute_result"
    }
   ],
   "source": [
    "MATRIX.ndim"
   ]
  },
  {
   "cell_type": "code",
   "execution_count": 10,
   "id": "2907ba2c",
   "metadata": {},
   "outputs": [
    {
     "data": {
      "text/plain": [
       "torch.Size([2, 2])"
      ]
     },
     "execution_count": 10,
     "metadata": {},
     "output_type": "execute_result"
    }
   ],
   "source": [
    "MATRIX.shape"
   ]
  },
  {
   "cell_type": "code",
   "execution_count": 11,
   "id": "f0f04270",
   "metadata": {},
   "outputs": [],
   "source": [
    "TENSOR = torch.tensor([\n",
    "    [[1, 2, 3], \n",
    "    [4, 5, 6]], \n",
    "    \n",
    "    [[10, 20, 30],\n",
    "    [40, 50, 60]], \n",
    "    \n",
    "    [[7, 8, 9], \n",
    "    [70, 80, 90]]\n",
    "])"
   ]
  },
  {
   "cell_type": "code",
   "execution_count": 12,
   "id": "c59cb5d6",
   "metadata": {},
   "outputs": [
    {
     "data": {
      "text/plain": [
       "torch.Size([3, 2, 3])"
      ]
     },
     "execution_count": 12,
     "metadata": {},
     "output_type": "execute_result"
    }
   ],
   "source": [
    "TENSOR.shape"
   ]
  },
  {
   "cell_type": "code",
   "execution_count": 13,
   "id": "7722cb38",
   "metadata": {},
   "outputs": [
    {
     "data": {
      "text/plain": [
       "tensor([[ 7,  8,  9],\n",
       "        [70, 80, 90]])"
      ]
     },
     "execution_count": 13,
     "metadata": {},
     "output_type": "execute_result"
    }
   ],
   "source": [
    "TENSOR[2]"
   ]
  },
  {
   "cell_type": "code",
   "execution_count": 14,
   "id": "edc783a7",
   "metadata": {},
   "outputs": [],
   "source": [
    "TENSOR2 = torch.tensor([\n",
    "    [[1, 5], \n",
    "    [4, 3]], \n",
    "    \n",
    "    [[8, 1], \n",
    "    [6, 4]], \n",
    "    \n",
    "    [[12, 7],\n",
    "    [6, 14]]\n",
    "])"
   ]
  },
  {
   "cell_type": "code",
   "execution_count": 15,
   "id": "8ad43cae",
   "metadata": {},
   "outputs": [
    {
     "data": {
      "text/plain": [
       "torch.Size([3, 2, 2])"
      ]
     },
     "execution_count": 15,
     "metadata": {},
     "output_type": "execute_result"
    }
   ],
   "source": [
    "TENSOR2.shape"
   ]
  },
  {
   "cell_type": "code",
   "execution_count": 16,
   "id": "45bc0ce5",
   "metadata": {},
   "outputs": [
    {
     "data": {
      "text/plain": [
       "tensor([[8, 1],\n",
       "        [6, 4]])"
      ]
     },
     "execution_count": 16,
     "metadata": {},
     "output_type": "execute_result"
    }
   ],
   "source": [
    "TENSOR2[1]"
   ]
  },
  {
   "cell_type": "markdown",
   "id": "a03c7ed0",
   "metadata": {},
   "source": [
    "- ### Random Tensors :\n",
    "\n",
    "why?\n",
    "\n",
    "Neural Networks :\n",
    "\n",
    "`start with random tensors -> look at data -> update random numbers -> look at data -> update random`"
   ]
  },
  {
   "cell_type": "code",
   "execution_count": 17,
   "id": "74bd73dd",
   "metadata": {},
   "outputs": [
    {
     "data": {
      "text/plain": [
       "tensor([[[0.5198, 0.7818, 0.5274],\n",
       "         [0.2776, 0.7341, 0.6879],\n",
       "         [0.1551, 0.5012, 0.3841]],\n",
       "\n",
       "        [[0.8880, 0.3471, 0.0264],\n",
       "         [0.2400, 0.0685, 0.3604],\n",
       "         [0.1118, 0.5051, 0.9488]]])"
      ]
     },
     "execution_count": 17,
     "metadata": {},
     "output_type": "execute_result"
    }
   ],
   "source": [
    "random_tensor1= torch.rand(2, 3, 3)\n",
    "random_tensor1"
   ]
  },
  {
   "cell_type": "code",
   "execution_count": 18,
   "id": "f0c77828",
   "metadata": {},
   "outputs": [
    {
     "data": {
      "text/plain": [
       "tensor([[0.3221, 0.7591, 0.6561,  ..., 0.8168, 0.7022, 0.6579],\n",
       "        [0.4850, 0.7044, 0.6668,  ..., 0.4670, 0.4865, 0.7605],\n",
       "        [0.5663, 0.5219, 0.6378,  ..., 0.6195, 0.3375, 0.2708],\n",
       "        ...,\n",
       "        [0.4030, 0.2368, 0.4849,  ..., 0.8596, 0.7218, 0.6712],\n",
       "        [0.4550, 0.5286, 0.5937,  ..., 0.5447, 0.6193, 0.0510],\n",
       "        [0.4137, 0.4166, 0.0264,  ..., 0.0528, 0.6694, 0.1131]])"
      ]
     },
     "execution_count": 18,
     "metadata": {},
     "output_type": "execute_result"
    }
   ],
   "source": [
    "# create a random tensor similar to an image :\n",
    "image_tensor = torch.rand(size=(3, 224, 224)) #channels, height, width\n",
    "image_tensor[0]"
   ]
  },
  {
   "cell_type": "code",
   "execution_count": 19,
   "id": "f475ade2",
   "metadata": {},
   "outputs": [],
   "source": [
    "random_tensor2 = torch.rand_like(image_tensor)"
   ]
  },
  {
   "cell_type": "code",
   "execution_count": 20,
   "id": "af227bae",
   "metadata": {},
   "outputs": [],
   "source": [
    "### Zeros & Ones ###"
   ]
  },
  {
   "cell_type": "code",
   "execution_count": 21,
   "id": "722a06a5",
   "metadata": {},
   "outputs": [
    {
     "data": {
      "text/plain": [
       "tensor([[0., 0.],\n",
       "        [0., 0.],\n",
       "        [0., 0.]])"
      ]
     },
     "execution_count": 21,
     "metadata": {},
     "output_type": "execute_result"
    }
   ],
   "source": [
    "torch.zeros(3, 2)"
   ]
  },
  {
   "cell_type": "code",
   "execution_count": 22,
   "id": "c3fd66d8",
   "metadata": {},
   "outputs": [
    {
     "data": {
      "text/plain": [
       "tensor([[1., 1., 1., 1.],\n",
       "        [1., 1., 1., 1.],\n",
       "        [1., 1., 1., 1.]])"
      ]
     },
     "execution_count": 22,
     "metadata": {},
     "output_type": "execute_result"
    }
   ],
   "source": [
    "ones = torch.ones(3, 4)\n",
    "ones"
   ]
  },
  {
   "cell_type": "code",
   "execution_count": 23,
   "id": "bb42e437",
   "metadata": {},
   "outputs": [
    {
     "data": {
      "text/plain": [
       "torch.float32"
      ]
     },
     "execution_count": 23,
     "metadata": {},
     "output_type": "execute_result"
    }
   ],
   "source": [
    "ones.dtype"
   ]
  },
  {
   "cell_type": "code",
   "execution_count": 24,
   "id": "2f52a78c",
   "metadata": {},
   "outputs": [],
   "source": [
    "### Create a range and Tensor-like:"
   ]
  },
  {
   "cell_type": "code",
   "execution_count": 25,
   "id": "2f479fb7",
   "metadata": {},
   "outputs": [
    {
     "data": {
      "text/plain": [
       "tensor([ 4, 12, 20, 28, 36, 44, 52])"
      ]
     },
     "execution_count": 25,
     "metadata": {},
     "output_type": "execute_result"
    }
   ],
   "source": [
    "torch.arange(start=4, end=53, step=8)"
   ]
  },
  {
   "cell_type": "markdown",
   "id": "264b0f14",
   "metadata": {},
   "source": [
    "- ### Tensor datatype:"
   ]
  },
  {
   "cell_type": "code",
   "execution_count": 26,
   "id": "f3a653eb",
   "metadata": {},
   "outputs": [
    {
     "data": {
      "text/plain": [
       "tensor([1., 5., 9.])"
      ]
     },
     "execution_count": 26,
     "metadata": {},
     "output_type": "execute_result"
    }
   ],
   "source": [
    "float_tensor = torch.tensor([1.0, 5.0, 9.0], \n",
    "                            dtype = None, # related to precision in computing\n",
    "                            device= None, # default:\"cpu\", on GPU:\"cuda\"\n",
    "                            requires_grad = False # track gradients with this tensor operations\n",
    ")\n",
    "float_tensor"
   ]
  },
  {
   "cell_type": "code",
   "execution_count": 27,
   "id": "62433fb8",
   "metadata": {},
   "outputs": [
    {
     "data": {
      "text/plain": [
       "torch.float32"
      ]
     },
     "execution_count": 27,
     "metadata": {},
     "output_type": "execute_result"
    }
   ],
   "source": [
    "float_tensor.dtype"
   ]
  },
  {
   "cell_type": "code",
   "execution_count": 28,
   "id": "ed3d05cd",
   "metadata": {},
   "outputs": [
    {
     "data": {
      "text/plain": [
       "tensor([1., 5., 9.], dtype=torch.float16)"
      ]
     },
     "execution_count": 28,
     "metadata": {},
     "output_type": "execute_result"
    }
   ],
   "source": [
    "float_16 = float_tensor.type(torch.float16)\n",
    "float_16"
   ]
  },
  {
   "cell_type": "markdown",
   "id": "b675b116",
   "metadata": {},
   "source": [
    "### Getting information from tensors :\n",
    "\n",
    "- **shape** - what shape is the tensor? (some operations require specific shape rules)\n",
    "\n",
    "\n",
    "- **dtype** - what datatype are the elements within the tensor stored in?\n",
    "\n",
    "\n",
    "- **device** - what device is the tensor stored on? (usually GPU or CPU)"
   ]
  },
  {
   "cell_type": "code",
   "execution_count": 29,
   "id": "07a7cd0c",
   "metadata": {},
   "outputs": [
    {
     "data": {
      "text/plain": [
       "tensor([[[0.3870, 0.0272, 0.9629, 0.6265],\n",
       "         [0.5730, 0.0691, 0.2504, 0.4691],\n",
       "         [0.2607, 0.7300, 0.1302, 0.3756]],\n",
       "\n",
       "        [[0.9239, 0.2473, 0.5031, 0.3819],\n",
       "         [0.5613, 0.1125, 0.9352, 0.3451],\n",
       "         [0.7430, 0.9441, 0.7759, 0.7443]]])"
      ]
     },
     "execution_count": 29,
     "metadata": {},
     "output_type": "execute_result"
    }
   ],
   "source": [
    "tensor_info = torch.rand(2, 3, 4)\n",
    "tensor_info"
   ]
  },
  {
   "cell_type": "code",
   "execution_count": 30,
   "id": "0ced5822",
   "metadata": {},
   "outputs": [
    {
     "data": {
      "text/plain": [
       "torch.Size([2, 3, 4])"
      ]
     },
     "execution_count": 30,
     "metadata": {},
     "output_type": "execute_result"
    }
   ],
   "source": [
    "tensor_info.shape"
   ]
  },
  {
   "cell_type": "code",
   "execution_count": 31,
   "id": "217b62ae",
   "metadata": {},
   "outputs": [
    {
     "data": {
      "text/plain": [
       "torch.float32"
      ]
     },
     "execution_count": 31,
     "metadata": {},
     "output_type": "execute_result"
    }
   ],
   "source": [
    "tensor_info.dtype"
   ]
  },
  {
   "cell_type": "code",
   "execution_count": 32,
   "id": "36adfe99",
   "metadata": {},
   "outputs": [
    {
     "data": {
      "text/plain": [
       "device(type='cpu')"
      ]
     },
     "execution_count": 32,
     "metadata": {},
     "output_type": "execute_result"
    }
   ],
   "source": [
    "tensor_info.device"
   ]
  },
  {
   "cell_type": "code",
   "execution_count": 33,
   "id": "5c003c67",
   "metadata": {},
   "outputs": [
    {
     "data": {
      "text/plain": [
       "torch.Size([2, 3, 4])"
      ]
     },
     "execution_count": 33,
     "metadata": {},
     "output_type": "execute_result"
    }
   ],
   "source": [
    "tensor_info.size()"
   ]
  },
  {
   "cell_type": "markdown",
   "id": "542e03d9",
   "metadata": {},
   "source": [
    "### Manipulating Tensors (Tensor Operations)\n",
    "\n",
    "- Addition\n",
    "- Subtraction\n",
    "- Multiplication (element-wise)\n",
    "- Division\n",
    "- **Matrix multiplication(dot product)**"
   ]
  },
  {
   "cell_type": "code",
   "execution_count": 34,
   "id": "9ece4412",
   "metadata": {},
   "outputs": [
    {
     "data": {
      "text/plain": [
       "tensor([[4, 5],\n",
       "        [5, 9],\n",
       "        [7, 7]])"
      ]
     },
     "execution_count": 34,
     "metadata": {},
     "output_type": "execute_result"
    }
   ],
   "source": [
    "tensor1 = torch.randint(1, 12, (3,2))\n",
    "tensor1"
   ]
  },
  {
   "cell_type": "code",
   "execution_count": 35,
   "id": "d2d77ade",
   "metadata": {},
   "outputs": [
    {
     "data": {
      "text/plain": [
       "tensor([[13, 11,  6,  7],\n",
       "        [ 9,  7, 10, 15]])"
      ]
     },
     "execution_count": 35,
     "metadata": {},
     "output_type": "execute_result"
    }
   ],
   "source": [
    "tensor2 = torch.randint(5, 18, (2,4))\n",
    "tensor2"
   ]
  },
  {
   "cell_type": "code",
   "execution_count": 36,
   "id": "a8190005",
   "metadata": {},
   "outputs": [
    {
     "name": "stdout",
     "output_type": "stream",
     "text": [
      "tensor([[4, 5],\n",
      "        [5, 9],\n",
      "        [7, 7]])\n",
      "\n",
      "\n",
      "tensor([[16, 25],\n",
      "        [25, 81],\n",
      "        [49, 49]])\n"
     ]
    }
   ],
   "source": [
    "# Element wise\n",
    "print(tensor1)\n",
    "print('\\n')\n",
    "print(tensor1*tensor1)"
   ]
  },
  {
   "cell_type": "code",
   "execution_count": 37,
   "id": "6d7f5821",
   "metadata": {},
   "outputs": [
    {
     "name": "stdout",
     "output_type": "stream",
     "text": [
      "CPU times: total: 0 ns\n",
      "Wall time: 0 ns\n"
     ]
    },
    {
     "data": {
      "text/plain": [
       "tensor([[ 97,  79,  74, 103],\n",
       "        [146, 118, 120, 170],\n",
       "        [154, 126, 112, 154]])"
      ]
     },
     "execution_count": 37,
     "metadata": {},
     "output_type": "execute_result"
    }
   ],
   "source": [
    "# Matrix Multiplication\n",
    "%time\n",
    "\n",
    "torch.matmul(tensor1, tensor2)"
   ]
  },
  {
   "cell_type": "code",
   "execution_count": 38,
   "id": "1c46e378",
   "metadata": {},
   "outputs": [
    {
     "name": "stdout",
     "output_type": "stream",
     "text": [
      "CPU times: total: 0 ns\n",
      "Wall time: 0 ns\n"
     ]
    },
    {
     "data": {
      "text/plain": [
       "tensor([[ 97,  79,  74, 103],\n",
       "        [146, 118, 120, 170],\n",
       "        [154, 126, 112, 154]])"
      ]
     },
     "execution_count": 38,
     "metadata": {},
     "output_type": "execute_result"
    }
   ],
   "source": [
    "%%time\n",
    "\n",
    "tensor1@ tensor2"
   ]
  },
  {
   "cell_type": "code",
   "execution_count": 39,
   "id": "97e384c8",
   "metadata": {},
   "outputs": [
    {
     "data": {
      "text/plain": [
       "tensor([[ 97,  79,  74, 103],\n",
       "        [146, 118, 120, 170],\n",
       "        [154, 126, 112, 154]])"
      ]
     },
     "execution_count": 39,
     "metadata": {},
     "output_type": "execute_result"
    }
   ],
   "source": [
    "torch.mm(tensor1, tensor2)"
   ]
  },
  {
   "cell_type": "code",
   "execution_count": 40,
   "id": "0dc145f0",
   "metadata": {},
   "outputs": [
    {
     "data": {
      "text/plain": [
       "tensor([[ 41,  65,  63],\n",
       "        [ 65, 106,  98],\n",
       "        [ 63,  98,  98]])"
      ]
     },
     "execution_count": 40,
     "metadata": {},
     "output_type": "execute_result"
    }
   ],
   "source": [
    "# Transpose : switches axes or dimension\n",
    "torch.matmul(tensor1, tensor1.T)"
   ]
  },
  {
   "cell_type": "code",
   "execution_count": 41,
   "id": "98885b90",
   "metadata": {},
   "outputs": [
    {
     "data": {
      "text/plain": [
       "tensor([[4, 5],\n",
       "        [5, 9],\n",
       "        [7, 7]])"
      ]
     },
     "execution_count": 41,
     "metadata": {},
     "output_type": "execute_result"
    }
   ],
   "source": [
    "tensor1"
   ]
  },
  {
   "cell_type": "markdown",
   "id": "5786a94c",
   "metadata": {},
   "source": [
    "- ### find min, max, mean, sum, etc (Tensor Aggregation)"
   ]
  },
  {
   "cell_type": "code",
   "execution_count": 42,
   "id": "f8759fe3",
   "metadata": {},
   "outputs": [
    {
     "data": {
      "text/plain": [
       "torch.int64"
      ]
     },
     "execution_count": 42,
     "metadata": {},
     "output_type": "execute_result"
    }
   ],
   "source": [
    "tensor1.dtype"
   ]
  },
  {
   "cell_type": "code",
   "execution_count": 43,
   "id": "a454bbec",
   "metadata": {},
   "outputs": [
    {
     "data": {
      "text/plain": [
       "tensor(6.1667)"
      ]
     },
     "execution_count": 43,
     "metadata": {},
     "output_type": "execute_result"
    }
   ],
   "source": [
    "torch.mean(tensor1, dtype=torch.float32)"
   ]
  },
  {
   "cell_type": "markdown",
   "id": "733fe53c",
   "metadata": {},
   "source": [
    "- ### find Positional min and max -> helpful with softmax"
   ]
  },
  {
   "cell_type": "code",
   "execution_count": 44,
   "id": "42302f9d",
   "metadata": {},
   "outputs": [
    {
     "data": {
      "text/plain": [
       "tensor([[ 9,  6, 13, 14],\n",
       "        [15, 22,  8, 13],\n",
       "        [11, 24, 22,  6]])"
      ]
     },
     "execution_count": 44,
     "metadata": {},
     "output_type": "execute_result"
    }
   ],
   "source": [
    "tensor3 = torch.randint(5, 25, (3, 4))\n",
    "tensor3"
   ]
  },
  {
   "cell_type": "code",
   "execution_count": 45,
   "id": "f53c2fd6",
   "metadata": {},
   "outputs": [
    {
     "data": {
      "text/plain": [
       "tensor(1)"
      ]
     },
     "execution_count": 45,
     "metadata": {},
     "output_type": "execute_result"
    }
   ],
   "source": [
    "# position min -> return min index\n",
    "torch.argmin(tensor3)"
   ]
  },
  {
   "cell_type": "code",
   "execution_count": 46,
   "id": "c64f46f8",
   "metadata": {},
   "outputs": [
    {
     "data": {
      "text/plain": [
       "tensor(9)"
      ]
     },
     "execution_count": 46,
     "metadata": {},
     "output_type": "execute_result"
    }
   ],
   "source": [
    "# position max -> return max index\n",
    "torch.argmax(tensor3)"
   ]
  },
  {
   "cell_type": "markdown",
   "id": "3daa2fb2",
   "metadata": {},
   "source": [
    "### reshaping, stacking, squeeze, unsqueeze\n",
    "\n",
    "* **torch.reshape(input, shape)** :\n",
    "Reshapes input to shape (if compatible), can also use torch.Tensor.reshape().\n",
    "\n",
    "\n",
    "* **torch.Tensor.view(shape) :**\n",
    "Returns a view of the original tensor in a different shape but shares the same data as the original tensor.\n",
    "\n",
    "\n",
    "* **torch.stack(tensors, dim=0) :**\n",
    "Concatenates a sequence of tensors along a new dimension (dim), all tensors must be same size.\n",
    "\n",
    "\n",
    "* **torch.squeeze(input) :**\n",
    "Squeezes input to remove all the dimenions with value 1.\n",
    "\n",
    "\n",
    "* **torch.unsqueeze(input, dim) :**\n",
    "Returns input with a dimension value of 1 added at dim.\n",
    "\n",
    "\n",
    "* **torch.permute(input, dims):**\n",
    "Returns a view of the original input with its dimensions permuted (rearranged) to dims."
   ]
  },
  {
   "cell_type": "code",
   "execution_count": 47,
   "id": "fdea3482",
   "metadata": {},
   "outputs": [
    {
     "data": {
      "text/plain": [
       "tensor([[4, 3],\n",
       "        [3, 3]])"
      ]
     },
     "execution_count": 47,
     "metadata": {},
     "output_type": "execute_result"
    }
   ],
   "source": [
    "my_tensor1 = torch.randint(0, 5, (2, 2))\n",
    "my_tensor1"
   ]
  },
  {
   "cell_type": "code",
   "execution_count": 48,
   "id": "c8aecbac",
   "metadata": {},
   "outputs": [
    {
     "data": {
      "text/plain": [
       "tensor([[16, 19],\n",
       "        [15, 13]])"
      ]
     },
     "execution_count": 48,
     "metadata": {},
     "output_type": "execute_result"
    }
   ],
   "source": [
    "my_tensor2 = torch.randint(10, 20, (2, 2))\n",
    "my_tensor2"
   ]
  },
  {
   "cell_type": "code",
   "execution_count": 49,
   "id": "e2cac2f1",
   "metadata": {},
   "outputs": [
    {
     "data": {
      "text/plain": [
       "tensor([[[ 4,  3],\n",
       "         [ 3,  3]],\n",
       "\n",
       "        [[16, 19],\n",
       "         [15, 13]]])"
      ]
     },
     "execution_count": 49,
     "metadata": {},
     "output_type": "execute_result"
    }
   ],
   "source": [
    "torch.stack([my_tensor1, my_tensor2], dim=0)"
   ]
  },
  {
   "cell_type": "code",
   "execution_count": 50,
   "id": "224687b0",
   "metadata": {},
   "outputs": [
    {
     "data": {
      "text/plain": [
       "tensor([[ 4,  3, 16, 19],\n",
       "        [ 3,  3, 15, 13]])"
      ]
     },
     "execution_count": 50,
     "metadata": {},
     "output_type": "execute_result"
    }
   ],
   "source": [
    "torch.hstack([my_tensor1, my_tensor2])"
   ]
  },
  {
   "cell_type": "code",
   "execution_count": 51,
   "id": "c1d4c627",
   "metadata": {},
   "outputs": [
    {
     "data": {
      "text/plain": [
       "tensor([[ 4,  3],\n",
       "        [ 3,  3],\n",
       "        [16, 19],\n",
       "        [15, 13]])"
      ]
     },
     "execution_count": 51,
     "metadata": {},
     "output_type": "execute_result"
    }
   ],
   "source": [
    "torch.vstack([my_tensor1, my_tensor2])"
   ]
  },
  {
   "cell_type": "code",
   "execution_count": 55,
   "id": "90e618f8",
   "metadata": {},
   "outputs": [
    {
     "data": {
      "text/plain": [
       "tensor([[4, 3],\n",
       "        [3, 3]])"
      ]
     },
     "execution_count": 55,
     "metadata": {},
     "output_type": "execute_result"
    }
   ],
   "source": [
    "torch.squeeze(my_tensor1)"
   ]
  },
  {
   "cell_type": "code",
   "execution_count": 59,
   "id": "0f88e57f",
   "metadata": {},
   "outputs": [
    {
     "data": {
      "text/plain": [
       "tensor([[[0.4502],\n",
       "         [0.1566],\n",
       "         [0.3254]]])"
      ]
     },
     "execution_count": 59,
     "metadata": {},
     "output_type": "execute_result"
    }
   ],
   "source": [
    "## Squeeze ## : removes all single dimensions from a target tensor\n",
    "x1 = torch.rand(1, 3, 1)\n",
    "x1"
   ]
  },
  {
   "cell_type": "code",
   "execution_count": 60,
   "id": "4e2f37dc",
   "metadata": {},
   "outputs": [
    {
     "data": {
      "text/plain": [
       "torch.Size([1, 3, 1])"
      ]
     },
     "execution_count": 60,
     "metadata": {},
     "output_type": "execute_result"
    }
   ],
   "source": [
    "x1.shape"
   ]
  },
  {
   "cell_type": "code",
   "execution_count": 61,
   "id": "10e7ccf8",
   "metadata": {},
   "outputs": [
    {
     "data": {
      "text/plain": [
       "tensor([0.4502, 0.1566, 0.3254])"
      ]
     },
     "execution_count": 61,
     "metadata": {},
     "output_type": "execute_result"
    }
   ],
   "source": [
    "y1 = torch.squeeze(x1)\n",
    "y1"
   ]
  },
  {
   "cell_type": "code",
   "execution_count": 62,
   "id": "b190b209",
   "metadata": {},
   "outputs": [
    {
     "data": {
      "text/plain": [
       "torch.Size([3])"
      ]
     },
     "execution_count": 62,
     "metadata": {},
     "output_type": "execute_result"
    }
   ],
   "source": [
    "y1.shape"
   ]
  },
  {
   "cell_type": "code",
   "execution_count": 63,
   "id": "a09b4142",
   "metadata": {},
   "outputs": [
    {
     "name": "stdout",
     "output_type": "stream",
     "text": [
      "Pre Squeeze Tensor :\n",
      " tensor([[[0.4502],\n",
      "         [0.1566],\n",
      "         [0.3254]]])\n",
      "Tensor shape :\n",
      " torch.Size([1, 3, 1])\n",
      "\n",
      "Squeezing...\n",
      "\n",
      "New Tensor :\n",
      " tensor([0.4502, 0.1566, 0.3254])\n",
      "Tensor shape :\n",
      " torch.Size([3])\n"
     ]
    }
   ],
   "source": [
    "print(\"Pre Squeeze Tensor :\\n\" , x1)\n",
    "print(\"Tensor shape :\\n\", x1.shape)\n",
    "\n",
    "\n",
    "print('\\nSqueezing...\\n')\n",
    "\n",
    "print(\"New Tensor :\\n\", y1)\n",
    "print(\"Tensor shape :\\n\", y1.shape)"
   ]
  },
  {
   "cell_type": "code",
   "execution_count": 64,
   "id": "732726a7",
   "metadata": {},
   "outputs": [
    {
     "name": "stdout",
     "output_type": "stream",
     "text": [
      "pre target :\n",
      " tensor([0.4502, 0.1566, 0.3254])\n",
      "pre target shape :\n",
      " torch.Size([3])\n",
      "New tensor :\n",
      " tensor([[0.4502, 0.1566, 0.3254]])\n",
      "New shape :\n",
      " torch.Size([1, 3])\n"
     ]
    }
   ],
   "source": [
    "## unsqueeze## : add a single dimension to a target tensor at specific dimension\n",
    "\n",
    "print('pre target :\\n', y1)\n",
    "print('pre target shape :\\n', y1.shape)\n",
    "\n",
    "# add extra dim with unsqueeze:\n",
    "z1 = torch.unsqueeze(y1, dim=0)\n",
    "print('New tensor :\\n', z1)\n",
    "print('New shape :\\n', z1.shape)"
   ]
  },
  {
   "cell_type": "code",
   "execution_count": 65,
   "id": "036c841c",
   "metadata": {},
   "outputs": [
    {
     "data": {
      "text/plain": [
       "torch.Size([3, 224, 224])"
      ]
     },
     "execution_count": 65,
     "metadata": {},
     "output_type": "execute_result"
    }
   ],
   "source": [
    "## permute ## rearranges the dimensions of a target tensor\n",
    "x_original = torch.rand(size=(224, 224, 3)) # height, width, color_channel\n",
    "\n",
    "# permute returns a different **view** of original tensor\n",
    "x_permuted = torch.permute(x_original, (2, 0, 1)) # rearrange color channel\n",
    "x_permuted.shape"
   ]
  },
  {
   "cell_type": "markdown",
   "id": "81b5cae7",
   "metadata": {},
   "source": [
    "- ### PyTorch & Numpy\n",
    "\n",
    "* Numpy array -> PyTorch tensor : `torch.from_numpy()`\n",
    "\n",
    "* PyTorch tensor -> Numpy array : `torch.Tensor.numpy()`"
   ]
  },
  {
   "cell_type": "code",
   "execution_count": 66,
   "id": "98e4670b",
   "metadata": {},
   "outputs": [],
   "source": [
    "import numpy as np"
   ]
  },
  {
   "cell_type": "code",
   "execution_count": 67,
   "id": "65643f66",
   "metadata": {},
   "outputs": [
    {
     "data": {
      "text/plain": [
       "array([[ 5, 14,  6],\n",
       "       [15, 11, 15],\n",
       "       [ 3, 14,  6]])"
      ]
     },
     "execution_count": 67,
     "metadata": {},
     "output_type": "execute_result"
    }
   ],
   "source": [
    "array_ = np.random.randint(1, 20, (3,3))\n",
    "array_"
   ]
  },
  {
   "cell_type": "code",
   "execution_count": 68,
   "id": "fc20edec",
   "metadata": {},
   "outputs": [
    {
     "data": {
      "text/plain": [
       "tensor([[ 5, 14,  6],\n",
       "        [15, 11, 15],\n",
       "        [ 3, 14,  6]], dtype=torch.int32)"
      ]
     },
     "execution_count": 68,
     "metadata": {},
     "output_type": "execute_result"
    }
   ],
   "source": [
    "torch.from_numpy(array_)"
   ]
  },
  {
   "cell_type": "code",
   "execution_count": 76,
   "id": "dcb4126a",
   "metadata": {},
   "outputs": [
    {
     "data": {
      "text/plain": [
       "array([[4, 3],\n",
       "       [3, 3]], dtype=int64)"
      ]
     },
     "execution_count": 76,
     "metadata": {},
     "output_type": "execute_result"
    }
   ],
   "source": [
    "torch.Tensor.numpy(my_tensor1)"
   ]
  },
  {
   "cell_type": "code",
   "execution_count": 71,
   "id": "defeb849",
   "metadata": {},
   "outputs": [
    {
     "data": {
      "text/plain": [
       "array([[4, 3],\n",
       "       [3, 3]], dtype=int64)"
      ]
     },
     "execution_count": 71,
     "metadata": {},
     "output_type": "execute_result"
    }
   ],
   "source": [
    "my_tensor1.numpy()"
   ]
  },
  {
   "cell_type": "markdown",
   "id": "0f4a75be",
   "metadata": {},
   "source": [
    "- ### Reproducibility (trying to take random out of random)"
   ]
  },
  {
   "cell_type": "code",
   "execution_count": 72,
   "id": "1b4e4331",
   "metadata": {},
   "outputs": [
    {
     "name": "stdout",
     "output_type": "stream",
     "text": [
      "tensor([[True, True, True],\n",
      "        [True, True, True],\n",
      "        [True, True, True]])\n"
     ]
    }
   ],
   "source": [
    "torch.manual_seed(42)\n",
    "TensorA = torch.rand((3, 3))\n",
    "\n",
    "torch.manual_seed(42)\n",
    "TensorB = torch.rand((3, 3))\n",
    "\n",
    "print(TensorA == TensorB)"
   ]
  },
  {
   "cell_type": "markdown",
   "id": "a1461d3b",
   "metadata": {},
   "source": [
    "### Access GPU\n",
    "\n",
    "- running tensors and Pytorch objects on GPU (and Making faster computations)\n",
    "\n",
    "* setup device-agnostic code\n",
    "\n",
    "- **Putting tensors(and models) on the GPU -> Faster numerical calculations** "
   ]
  },
  {
   "cell_type": "code",
   "execution_count": 73,
   "id": "447340a8",
   "metadata": {},
   "outputs": [
    {
     "data": {
      "text/plain": [
       "True"
      ]
     },
     "execution_count": 73,
     "metadata": {},
     "output_type": "execute_result"
    }
   ],
   "source": [
    "# verify GPU:\n",
    "torch.cuda.is_available()"
   ]
  },
  {
   "cell_type": "code",
   "execution_count": 74,
   "id": "699433f0",
   "metadata": {},
   "outputs": [
    {
     "data": {
      "text/plain": [
       "'cuda'"
      ]
     },
     "execution_count": 74,
     "metadata": {},
     "output_type": "execute_result"
    }
   ],
   "source": [
    "# GPU availability\n",
    "\n",
    "device = \"cuda\" if torch.cuda.is_available() else \"cpu\"\n",
    "device"
   ]
  },
  {
   "cell_type": "code",
   "execution_count": 75,
   "id": "fe8b4d52",
   "metadata": {},
   "outputs": [
    {
     "data": {
      "text/plain": [
       "1"
      ]
     },
     "execution_count": 75,
     "metadata": {},
     "output_type": "execute_result"
    }
   ],
   "source": [
    "torch.cuda.device_count()"
   ]
  },
  {
   "cell_type": "code",
   "execution_count": 78,
   "id": "60ee75b7",
   "metadata": {},
   "outputs": [
    {
     "name": "stdout",
     "output_type": "stream",
     "text": [
      "tensor([[4, 5],\n",
      "        [5, 9],\n",
      "        [7, 7]]) cpu\n"
     ]
    }
   ],
   "source": [
    "# move tesnsor to GPU if available:\n",
    "print(tensor1, tensor1.device)"
   ]
  },
  {
   "cell_type": "code",
   "execution_count": 81,
   "id": "89814574",
   "metadata": {},
   "outputs": [
    {
     "data": {
      "text/plain": [
       "tensor([[4, 3],\n",
       "        [3, 3]], device='cuda:0')"
      ]
     },
     "execution_count": 81,
     "metadata": {},
     "output_type": "execute_result"
    }
   ],
   "source": [
    "tensor_gpu = my_tensor1.to(device)\n",
    "tensor_gpu"
   ]
  },
  {
   "cell_type": "code",
   "execution_count": 82,
   "id": "db453dfe",
   "metadata": {},
   "outputs": [
    {
     "ename": "TypeError",
     "evalue": "can't convert cuda:0 device type tensor to numpy. Use Tensor.cpu() to copy the tensor to host memory first.",
     "output_type": "error",
     "traceback": [
      "\u001b[1;31m---------------------------------------------------------------------------\u001b[0m",
      "\u001b[1;31mTypeError\u001b[0m                                 Traceback (most recent call last)",
      "Cell \u001b[1;32mIn[82], line 2\u001b[0m\n\u001b[0;32m      1\u001b[0m \u001b[38;5;66;03m### If tensor is on the GPU, cant transform it to numpy ###\u001b[39;00m\n\u001b[1;32m----> 2\u001b[0m \u001b[43mtensor_gpu\u001b[49m\u001b[38;5;241;43m.\u001b[39;49m\u001b[43mnumpy\u001b[49m\u001b[43m(\u001b[49m\u001b[43m)\u001b[49m\n",
      "\u001b[1;31mTypeError\u001b[0m: can't convert cuda:0 device type tensor to numpy. Use Tensor.cpu() to copy the tensor to host memory first."
     ]
    }
   ],
   "source": [
    "### If tensor is on the GPU, cant transform it to numpy ###\n",
    "tensor_gpu.numpy()"
   ]
  },
  {
   "cell_type": "code",
   "execution_count": 84,
   "id": "8f4e7aed",
   "metadata": {},
   "outputs": [
    {
     "data": {
      "text/plain": [
       "array([[4, 3],\n",
       "       [3, 3]], dtype=int64)"
      ]
     },
     "execution_count": 84,
     "metadata": {},
     "output_type": "execute_result"
    }
   ],
   "source": [
    "# GPU Tensor -> cpu -> numpy\n",
    "tensor_gpu.cpu().numpy()"
   ]
  },
  {
   "cell_type": "code",
   "execution_count": null,
   "id": "b17686f1",
   "metadata": {},
   "outputs": [],
   "source": []
  }
 ],
 "metadata": {
  "kernelspec": {
   "display_name": "Python 3 (ipykernel)",
   "language": "python",
   "name": "python3"
  },
  "language_info": {
   "codemirror_mode": {
    "name": "ipython",
    "version": 3
   },
   "file_extension": ".py",
   "mimetype": "text/x-python",
   "name": "python",
   "nbconvert_exporter": "python",
   "pygments_lexer": "ipython3",
   "version": "3.8.17"
  }
 },
 "nbformat": 4,
 "nbformat_minor": 5
}
