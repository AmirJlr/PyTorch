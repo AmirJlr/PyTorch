{
 "cells": [
  {
   "cell_type": "markdown",
   "id": "291149f9",
   "metadata": {},
   "source": [
    "https://www.learnpytorch.io/00_pytorch_fundamentals/#exercises"
   ]
  },
  {
   "cell_type": "code",
   "execution_count": 1,
   "id": "e19cbe2e",
   "metadata": {},
   "outputs": [],
   "source": [
    "import torch\n",
    "import numpy as np"
   ]
  },
  {
   "cell_type": "markdown",
   "id": "e08af951",
   "metadata": {},
   "source": [
    "## 1.\n",
    "\n",
    "**Documentation reading** - A big part of deep learning (and learning to code in general) is getting familiar with the documentation of a certain framework you're using. We'll be using the PyTorch documentation a lot throughout the rest of this course. So I'd recommend spending 10-minutes reading the following (it's okay if you don't get some things for now, the focus is not yet full understanding, it's awareness). See the documentation on torch.Tensor and for torch.cuda."
   ]
  },
  {
   "cell_type": "markdown",
   "id": "50431db5",
   "metadata": {},
   "source": [
    "## 2.\n",
    "\n",
    "Create a random tensor with shape (7, 7)."
   ]
  },
  {
   "cell_type": "code",
   "execution_count": 2,
   "id": "d6dd0db1",
   "metadata": {},
   "outputs": [
    {
     "data": {
      "text/plain": [
       "tensor([[0.2756, 0.1363, 0.4204, 0.2213, 0.0499, 0.0477, 0.3293],\n",
       "        [0.0305, 0.3403, 0.7439, 0.0753, 0.3244, 0.1848, 0.9352],\n",
       "        [0.8244, 0.2027, 0.6432, 0.5577, 0.5441, 0.5477, 0.6502],\n",
       "        [0.2151, 0.6343, 0.8052, 0.0672, 0.8188, 0.2968, 0.1932],\n",
       "        [0.4412, 0.8831, 0.4262, 0.4578, 0.5210, 0.7675, 0.3131],\n",
       "        [0.1064, 0.1019, 0.6480, 0.7376, 0.6054, 0.1064, 0.2413],\n",
       "        [0.4299, 0.6681, 0.9200, 0.5210, 0.0732, 0.1903, 0.9306]])"
      ]
     },
     "execution_count": 2,
     "metadata": {},
     "output_type": "execute_result"
    }
   ],
   "source": [
    "torch.rand(7, 7)"
   ]
  },
  {
   "cell_type": "code",
   "execution_count": 3,
   "id": "ae42d373",
   "metadata": {},
   "outputs": [
    {
     "data": {
      "text/plain": [
       "tensor([[3, 1, 2, 2, 2, 4, 3],\n",
       "        [4, 3, 3, 4, 1, 2, 2],\n",
       "        [2, 4, 4, 4, 2, 1, 1],\n",
       "        [2, 3, 4, 3, 3, 3, 3],\n",
       "        [4, 2, 3, 2, 4, 1, 2],\n",
       "        [4, 3, 3, 2, 2, 1, 2],\n",
       "        [1, 2, 3, 1, 4, 4, 4]])"
      ]
     },
     "execution_count": 3,
     "metadata": {},
     "output_type": "execute_result"
    }
   ],
   "source": [
    "torch.randint(1, 5, (7, 7))"
   ]
  },
  {
   "cell_type": "markdown",
   "id": "0c63d186",
   "metadata": {},
   "source": [
    "## 3.\n",
    "\n",
    "Perform a matrix multiplication on the tensor from 2 with another random tensor with shape (1, 7) (hint: you may have to transpose the second tensor)."
   ]
  },
  {
   "cell_type": "code",
   "execution_count": 4,
   "id": "6c7052aa",
   "metadata": {},
   "outputs": [],
   "source": [
    "tensor_1 = torch.rand(1, 7) "
   ]
  },
  {
   "cell_type": "code",
   "execution_count": 5,
   "id": "bc1918bb",
   "metadata": {},
   "outputs": [
    {
     "data": {
      "text/plain": [
       "tensor([[3.9059]])"
      ]
     },
     "execution_count": 5,
     "metadata": {},
     "output_type": "execute_result"
    }
   ],
   "source": [
    "torch.matmul(tensor_1, tensor_1.T)"
   ]
  },
  {
   "cell_type": "markdown",
   "id": "a083807c",
   "metadata": {},
   "source": [
    "## 4.\n",
    "\n",
    "Set the random seed to 0 and do exercises 2 & 3 over again."
   ]
  },
  {
   "cell_type": "code",
   "execution_count": 6,
   "id": "12e88a3f",
   "metadata": {},
   "outputs": [
    {
     "data": {
      "text/plain": [
       "tensor([[0.4963, 0.7682, 0.0885, 0.1320, 0.3074, 0.6341, 0.4901],\n",
       "        [0.8964, 0.4556, 0.6323, 0.3489, 0.4017, 0.0223, 0.1689],\n",
       "        [0.2939, 0.5185, 0.6977, 0.8000, 0.1610, 0.2823, 0.6816],\n",
       "        [0.9152, 0.3971, 0.8742, 0.4194, 0.5529, 0.9527, 0.0362],\n",
       "        [0.1852, 0.3734, 0.3051, 0.9320, 0.1759, 0.2698, 0.1507],\n",
       "        [0.0317, 0.2081, 0.9298, 0.7231, 0.7423, 0.5263, 0.2437],\n",
       "        [0.5846, 0.0332, 0.1387, 0.2422, 0.8155, 0.7932, 0.2783]])"
      ]
     },
     "execution_count": 6,
     "metadata": {},
     "output_type": "execute_result"
    }
   ],
   "source": [
    "torch.manual_seed(0)\n",
    "torch.rand(7, 7)"
   ]
  },
  {
   "cell_type": "code",
   "execution_count": 7,
   "id": "f763ae68",
   "metadata": {},
   "outputs": [
    {
     "data": {
      "text/plain": [
       "tensor([[0.4963, 0.7682, 0.0885, 0.1320, 0.3074, 0.6341, 0.4901],\n",
       "        [0.8964, 0.4556, 0.6323, 0.3489, 0.4017, 0.0223, 0.1689],\n",
       "        [0.2939, 0.5185, 0.6977, 0.8000, 0.1610, 0.2823, 0.6816],\n",
       "        [0.9152, 0.3971, 0.8742, 0.4194, 0.5529, 0.9527, 0.0362],\n",
       "        [0.1852, 0.3734, 0.3051, 0.9320, 0.1759, 0.2698, 0.1507],\n",
       "        [0.0317, 0.2081, 0.9298, 0.7231, 0.7423, 0.5263, 0.2437],\n",
       "        [0.5846, 0.0332, 0.1387, 0.2422, 0.8155, 0.7932, 0.2783]])"
      ]
     },
     "execution_count": 7,
     "metadata": {},
     "output_type": "execute_result"
    }
   ],
   "source": [
    "torch.manual_seed(0)\n",
    "torch.rand(7, 7)"
   ]
  },
  {
   "cell_type": "code",
   "execution_count": 8,
   "id": "c343ac36",
   "metadata": {},
   "outputs": [
    {
     "data": {
      "text/plain": [
       "tensor([[4, 9, 3, 0, 3, 9, 7]])"
      ]
     },
     "execution_count": 8,
     "metadata": {},
     "output_type": "execute_result"
    }
   ],
   "source": [
    "torch.manual_seed(0)\n",
    "torch.randint(0, 10, (1, 7))"
   ]
  },
  {
   "cell_type": "code",
   "execution_count": 9,
   "id": "75a12f5c",
   "metadata": {},
   "outputs": [
    {
     "data": {
      "text/plain": [
       "tensor([[4, 9, 3, 0, 3, 9, 7]])"
      ]
     },
     "execution_count": 9,
     "metadata": {},
     "output_type": "execute_result"
    }
   ],
   "source": [
    "torch.manual_seed(0)\n",
    "torch.randint(0, 10, (1, 7))"
   ]
  },
  {
   "cell_type": "markdown",
   "id": "5b7b2885",
   "metadata": {},
   "source": [
    "## 5.\n",
    "\n",
    "Speaking of random seeds, we saw how to set it with torch.manual_seed() but is there a GPU equivalent? (hint: you'll need to look into the documentation for torch.cuda for this one). If there is, set the GPU random seed to 1234."
   ]
  },
  {
   "cell_type": "code",
   "execution_count": 20,
   "id": "a2b3f165",
   "metadata": {},
   "outputs": [
    {
     "data": {
      "text/plain": [
       "tensor([[0.4635, 0.3732, 0.4320, 0.5821, 0.8991, 0.8773, 0.4708],\n",
       "        [0.5663, 0.9534, 0.7197, 0.4472, 0.7964, 0.7277, 0.3657],\n",
       "        [0.7023, 0.5396, 0.3144, 0.4608, 0.9706, 0.6502, 0.0872],\n",
       "        [0.8186, 0.6074, 0.7460, 0.5021, 0.6989, 0.6495, 0.9390],\n",
       "        [0.7639, 0.2812, 0.7620, 0.4703, 0.8306, 0.3246, 0.3532],\n",
       "        [0.9624, 0.5881, 0.5701, 0.5513, 0.5326, 0.5210, 0.0655],\n",
       "        [0.9826, 0.9773, 0.1558, 0.6236, 0.9133, 0.5968, 0.7151]])"
      ]
     },
     "execution_count": 20,
     "metadata": {},
     "output_type": "execute_result"
    }
   ],
   "source": [
    "torch.cuda.manual_seed(1234)\n",
    "torch.rand(7, 7)"
   ]
  },
  {
   "cell_type": "code",
   "execution_count": null,
   "id": "25a739c0",
   "metadata": {},
   "outputs": [],
   "source": []
  }
 ],
 "metadata": {
  "kernelspec": {
   "display_name": "Python 3 (ipykernel)",
   "language": "python",
   "name": "python3"
  },
  "language_info": {
   "codemirror_mode": {
    "name": "ipython",
    "version": 3
   },
   "file_extension": ".py",
   "mimetype": "text/x-python",
   "name": "python",
   "nbconvert_exporter": "python",
   "pygments_lexer": "ipython3",
   "version": "3.8.17"
  }
 },
 "nbformat": 4,
 "nbformat_minor": 5
}
