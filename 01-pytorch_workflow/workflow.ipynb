{
 "cells": [
  {
   "cell_type": "markdown",
   "id": "f473b857",
   "metadata": {},
   "source": [
    "## Sample Workflow :\n",
    "\n",
    "- ### 1: data (prepare and load)\n",
    "- ### 2: bulid model\n",
    "- ### 3: fitting the model to data (Training)\n",
    "- ### 4: making prediction and evaluating a model\n",
    "- ### 5: saving amd loading a model\n",
    "- ### 6: putting it all togother\n"
   ]
  },
  {
   "cell_type": "code",
   "execution_count": 2,
   "id": "74894363",
   "metadata": {},
   "outputs": [],
   "source": [
    "import torch \n",
    "from torch import nn # nn contains all pytorch building blocks for neural networks\n",
    "import matplotlib.pyplot as plt"
   ]
  },
  {
   "cell_type": "markdown",
   "id": "366e9eaa",
   "metadata": {},
   "source": [
    "- ### Data: Preparig and loading\n",
    "\n",
    "#### data can be almost anything...\n",
    "* Tabular data\n",
    "* Images\n",
    "* Videos\n",
    "* Audio\n",
    "* DNA\n",
    "* Text\n",
    "\n",
    "Machine learning is a game of two parts:\n",
    "1. Get data into numerical representation.\n",
    "2. Build Proper Model For learning that."
   ]
  },
  {
   "cell_type": "markdown",
   "id": "ab6e2830",
   "metadata": {},
   "source": [
    "### Use linear regression formula to make a straight line with **known parameters**"
   ]
  },
  {
   "cell_type": "code",
   "execution_count": 3,
   "id": "d8e9f660",
   "metadata": {},
   "outputs": [],
   "source": [
    "weight = 0.7\n",
    "bias = 0.3"
   ]
  },
  {
   "cell_type": "code",
   "execution_count": 4,
   "id": "73854ac1",
   "metadata": {},
   "outputs": [
    {
     "data": {
      "text/plain": [
       "tensor([0.0000, 0.0200, 0.0400, 0.0600, 0.0800])"
      ]
     },
     "execution_count": 4,
     "metadata": {},
     "output_type": "execute_result"
    }
   ],
   "source": [
    "# create data\n",
    "start = 0\n",
    "end = 1\n",
    "step = 0.02\n",
    "\n",
    "X = torch.arange(start, end, step)\n",
    "X[:5]"
   ]
  },
  {
   "cell_type": "code",
   "execution_count": 5,
   "id": "b4d44e78",
   "metadata": {},
   "outputs": [
    {
     "data": {
      "text/plain": [
       "torch.Size([50])"
      ]
     },
     "execution_count": 5,
     "metadata": {},
     "output_type": "execute_result"
    }
   ],
   "source": [
    "X.shape"
   ]
  },
  {
   "cell_type": "code",
   "execution_count": 6,
   "id": "f5073ce6",
   "metadata": {},
   "outputs": [
    {
     "data": {
      "text/plain": [
       "tensor([[0.0000],\n",
       "        [0.0200],\n",
       "        [0.0400],\n",
       "        [0.0600],\n",
       "        [0.0800]])"
      ]
     },
     "execution_count": 6,
     "metadata": {},
     "output_type": "execute_result"
    }
   ],
   "source": [
    "X = X.unsqueeze(dim=1)\n",
    "X[:5]"
   ]
  },
  {
   "cell_type": "code",
   "execution_count": 7,
   "id": "9af4af74",
   "metadata": {},
   "outputs": [
    {
     "data": {
      "text/plain": [
       "torch.Size([50, 1])"
      ]
     },
     "execution_count": 7,
     "metadata": {},
     "output_type": "execute_result"
    }
   ],
   "source": [
    "X.shape"
   ]
  },
  {
   "cell_type": "code",
   "execution_count": 8,
   "id": "521b7004",
   "metadata": {},
   "outputs": [],
   "source": [
    "y = X * weight + bias"
   ]
  },
  {
   "cell_type": "code",
   "execution_count": 9,
   "id": "227e679c",
   "metadata": {},
   "outputs": [
    {
     "data": {
      "text/plain": [
       "(tensor([[0.0000],\n",
       "         [0.0200],\n",
       "         [0.0400],\n",
       "         [0.0600],\n",
       "         [0.0800]]),\n",
       " tensor([[0.3000],\n",
       "         [0.3140],\n",
       "         [0.3280],\n",
       "         [0.3420],\n",
       "         [0.3560]]))"
      ]
     },
     "execution_count": 9,
     "metadata": {},
     "output_type": "execute_result"
    }
   ],
   "source": [
    "X[:5], y[:5]"
   ]
  },
  {
   "cell_type": "code",
   "execution_count": 10,
   "id": "12f094ec",
   "metadata": {},
   "outputs": [],
   "source": [
    "### spliting data into train and test sets ###"
   ]
  },
  {
   "cell_type": "code",
   "execution_count": 11,
   "id": "fd971728",
   "metadata": {},
   "outputs": [
    {
     "data": {
      "text/plain": [
       "(40, 40, 10, 10)"
      ]
     },
     "execution_count": 11,
     "metadata": {},
     "output_type": "execute_result"
    }
   ],
   "source": [
    "train_split = int(0.8 * len(X))\n",
    "\n",
    "X_train, y_train = X[:train_split], y[:train_split]\n",
    "X_test, y_test = X[train_split:], y[train_split:]\n",
    "\n",
    "len(X_train), len(y_train), len(X_test), len(y_test)"
   ]
  },
  {
   "cell_type": "code",
   "execution_count": 11,
   "id": "70d3375f",
   "metadata": {},
   "outputs": [],
   "source": [
    "### Visualize our data ###"
   ]
  },
  {
   "cell_type": "code",
   "execution_count": 12,
   "id": "ab1747a9",
   "metadata": {},
   "outputs": [],
   "source": [
    "def plot_prediction(train_data=X_train, train_labels=y_train,\n",
    "                    test_data=X_test, test_labels=y_test, \n",
    "                    predictions=None):\n",
    "    \"\"\"\n",
    "    plot training and test data and compare them with predictions\n",
    "    \n",
    "    \"\"\"\n",
    "    \n",
    "    plt.figure(figsize=(10, 7))\n",
    "    # trainind data\n",
    "    plt.scatter(train_data, train_labels, c='b', s=4, label='Training data')\n",
    "    # test data\n",
    "    plt.scatter(test_data, test_labels, c='r', s=4, label='Testing data')\n",
    "    \n",
    "    # plot the predictions if they exists:\n",
    "    if predictions is not None:\n",
    "        plt.scatter(test_data, predictions, c='g', s=4, label='Predictions')\n",
    "         \n",
    "            \n",
    "    plt.legend();\n",
    "    \n",
    "    "
   ]
  },
  {
   "cell_type": "code",
   "execution_count": 13,
   "id": "70fc1329",
   "metadata": {},
   "outputs": [],
   "source": [
    "# plot_prediction();"
   ]
  },
  {
   "cell_type": "markdown",
   "id": "71ee2975",
   "metadata": {},
   "source": [
    "- ### Building first Model\n",
    "\n",
    "our model :\n",
    "- Start with random values\n",
    "- Look at tgraining data\n",
    "- Adjust random values to better represent(or get closer to) the ideal values\n",
    "\n",
    "How to adjust?\n",
    "- 1. Gradient decent\n",
    "- 2. BackPropagation"
   ]
  },
  {
   "cell_type": "code",
   "execution_count": 14,
   "id": "0547ad38",
   "metadata": {},
   "outputs": [],
   "source": [
    "### Create Linear Regressin Python Classes ###"
   ]
  },
  {
   "cell_type": "code",
   "execution_count": null,
   "id": "77a16169",
   "metadata": {},
   "outputs": [],
   "source": [
    "class LinearRegression(nn.Module):\n",
    "    \n",
    "    def __init__(self):\n",
    "        super().__init__()\n",
    "        self.weights = nn.Parameter(torch.rand(1, dtype=torch.float, requires_grad=True))\n",
    "        self.bias = nn.Parameter(torch.rand(1, dtype=torch.float, requires_grad=True))\n",
    "        \n",
    "        # Forward method to define computation in the model :\n",
    "        def forward(self, x:torch.Tensor) -> torch.Tensor: # x is the input data\n",
    "            return self.weights * x + self.bias\n"
   ]
  }
 ],
 "metadata": {
  "kernelspec": {
   "display_name": "Python 3 (ipykernel)",
   "language": "python",
   "name": "python3"
  },
  "language_info": {
   "codemirror_mode": {
    "name": "ipython",
    "version": 3
   },
   "file_extension": ".py",
   "mimetype": "text/x-python",
   "name": "python",
   "nbconvert_exporter": "python",
   "pygments_lexer": "ipython3",
   "version": "3.8.17"
  }
 },
 "nbformat": 4,
 "nbformat_minor": 5
}
