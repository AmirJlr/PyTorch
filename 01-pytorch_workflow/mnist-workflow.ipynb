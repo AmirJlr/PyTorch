{
 "nbformat": 4,
 "nbformat_minor": 0,
 "metadata": {
  "colab": {
   "provenance": []
  },
  "kernelspec": {
   "name": "python3",
   "display_name": "Python 3"
  },
  "language_info": {
   "name": "python"
  },
  "accelerator": "GPU",
  "gpuClass": "standard"
 },
 "cells": [
  {
   "cell_type": "code",
   "execution_count": 31,
   "metadata": {
    "id": "uyz77N9rcgKL",
    "pycharm": {
     "name": "#%%\n"
    }
   },
   "outputs": [],
   "source": [
    "# Imports\n",
    "import torch \n",
    "import torch.nn as nn\n",
    "import torch.optim as optim\n",
    "import torch.nn.functional as F\n",
    "from torch.utils.data import DataLoader\n",
    "import torchvision.datasets as datasets\n",
    "import torchvision.transforms as transforms"
   ]
  },
  {
   "cell_type": "code",
   "source": [
    "# create fully-connected network\n",
    "class NN(nn.Module):\n",
    "  def __init__(self, input_size, num_class):\n",
    "    super(NN, self).__init__()\n",
    "    self.fc1 = nn.Linear(input_size, 50)\n",
    "    self.fc2 = nn.Linear(50, num_class)\n",
    "\n",
    "  def forward(self, x):\n",
    "    x = F.relu(self.fc1(x))\n",
    "    x = self.fc2(x)\n",
    "    return x"
   ],
   "metadata": {
    "id": "MMji3aSWlXLo",
    "pycharm": {
     "name": "#%%\n"
    }
   },
   "execution_count": 32,
   "outputs": []
  },
  {
   "cell_type": "code",
   "source": [
    "model = NN(784, 10)\n",
    "x = torch.randn(64, 784)   # Batch, input\n",
    "print(model(x).shape)"
   ],
   "metadata": {
    "colab": {
     "base_uri": "https://localhost:8080/"
    },
    "id": "PCP82bFRpRQB",
    "outputId": "833fdeb3-a111-4e7a-cdc0-8be25be1d43b",
    "pycharm": {
     "name": "#%%\n"
    }
   },
   "execution_count": 33,
   "outputs": [
    {
     "output_type": "stream",
     "name": "stdout",
     "text": [
      "torch.Size([64, 10])\n"
     ]
    }
   ]
  },
  {
   "cell_type": "code",
   "source": [
    "# Set device\n",
    "device = torch.device('cuda' if torch.cuda.is_available() else 'cpu')"
   ],
   "metadata": {
    "id": "UjVAC1FMprC5",
    "pycharm": {
     "name": "#%%\n"
    }
   },
   "execution_count": 34,
   "outputs": []
  },
  {
   "cell_type": "code",
   "source": [
    "# Hyper Parameters\n",
    "input_size = 784\n",
    "num_class = 10\n",
    "learning_rate = 0.001\n",
    "batch_size= 64\n",
    "num_epoches = 1"
   ],
   "metadata": {
    "id": "B-Ev2knPrQT7",
    "pycharm": {
     "name": "#%%\n"
    }
   },
   "execution_count": 35,
   "outputs": []
  },
  {
   "cell_type": "code",
   "source": [
    "# Load Data\n",
    "train_data = datasets.MNIST(root='dataset/', train = True, transform = transforms.ToTensor(), download = True)\n",
    "train_loader = DataLoader(dataset = train_data, batch_size = batch_size, shuffle=True)\n",
    "\n",
    "test_data = datasets.MNIST(root='dataset/', train = False, transform = transforms.ToTensor(), download = True)\n",
    "test_loader = DataLoader(dataset = test_data, batch_size = batch_size, shuffle=True)"
   ],
   "metadata": {
    "id": "YUNqoyDtri8w",
    "pycharm": {
     "name": "#%%\n"
    }
   },
   "execution_count": 36,
   "outputs": []
  },
  {
   "cell_type": "code",
   "source": [
    "# Initialize\n",
    "model = NN(input_size=input_size, num_class = num_class).to(device)"
   ],
   "metadata": {
    "id": "r9wPUBgKsewM",
    "pycharm": {
     "name": "#%%\n"
    }
   },
   "execution_count": 37,
   "outputs": []
  },
  {
   "cell_type": "code",
   "source": [
    "# Loss and Optimizer \n",
    "criterion = nn.CrossEntropyLoss()\n",
    "optimizer = optim.Adam(model.parameters(), lr = learning_rate)"
   ],
   "metadata": {
    "id": "nCR87rREuXy0",
    "pycharm": {
     "name": "#%%\n"
    }
   },
   "execution_count": 38,
   "outputs": []
  },
  {
   "cell_type": "code",
   "source": [
    "# Training Network\n",
    "for epoch in range(num_epoches):\n",
    "  for batch_idx, (data, target) in enumerate(train_loader):\n",
    "    data = data.to(device=device)\n",
    "    target = target.to(device=device)\n",
    "\n",
    "    data = data.reshape(data.shape[0], -1)  #Flatten Data\n",
    "\n",
    "    # forward \n",
    "    scores = model(data)\n",
    "    loss = criterion(scores, target)\n",
    "\n",
    "    # backeard\n",
    "    optimizer.zero_grad()\n",
    "    loss.backward()\n",
    "\n",
    "    # GD\n",
    "    optimizer.step()"
   ],
   "metadata": {
    "id": "HOugRftMw3kq",
    "pycharm": {
     "name": "#%%\n"
    }
   },
   "execution_count": 39,
   "outputs": []
  },
  {
   "cell_type": "code",
   "source": [
    "# Accuracy\n",
    "\n",
    "def check_accuracy(loader, model):\n",
    "  num_correct = 0\n",
    "  num_samples = 0\n",
    "  model.eval()\n",
    "\n",
    "  with torch.no_grad():\n",
    "    for x, y in loader:\n",
    "      x= x.to(device=device)\n",
    "      y= y.to(device=device)\n",
    "      x = x.reshape(x.shape[0], -1)\n",
    "\n",
    "      scores = model(x)\n",
    "      _, predictions = scores.max(1)\n",
    "\n",
    "      num_correct += (predictions==y).sum()\n",
    "      num_samples += predictions.size(0)\n",
    "\n",
    "    print(\n",
    "            f\"Got {num_correct} / {num_samples} with accuracy\"\n",
    "            f\" {float(num_correct) / float(num_samples) * 100:.2f}\"\n",
    "        )\n",
    "    \n",
    "    model.train()\n"
   ],
   "metadata": {
    "id": "1T_HMV8E4W3r",
    "pycharm": {
     "name": "#%%\n"
    }
   },
   "execution_count": 42,
   "outputs": []
  },
  {
   "cell_type": "code",
   "source": [
    "check_accuracy(train_loader, model)\n",
    "check_accuracy(test_loader, model)"
   ],
   "metadata": {
    "colab": {
     "base_uri": "https://localhost:8080/"
    },
    "id": "tKxA111B6RSO",
    "outputId": "a4d7a126-2270-481a-d6a7-8538937bfc36",
    "pycharm": {
     "name": "#%%\n"
    }
   },
   "execution_count": 43,
   "outputs": [
    {
     "output_type": "stream",
     "name": "stdout",
     "text": [
      "Got 55896 / 60000 with accuracy 93.16\n",
      "Got 9285 / 10000 with accuracy 92.85\n"
     ]
    }
   ]
  },
  {
   "cell_type": "code",
   "source": [],
   "metadata": {
    "id": "v8qen62j7GOC",
    "pycharm": {
     "name": "#%%\n"
    }
   },
   "execution_count": null,
   "outputs": []
  }
 ]
}